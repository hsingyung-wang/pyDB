{
 "cells": [
  {
   "cell_type": "markdown",
   "metadata": {},
   "source": [
    "畫圖套件"
   ]
  },
  {
   "cell_type": "code",
   "execution_count": 1,
   "metadata": {},
   "outputs": [],
   "source": [
    "#下載資料套件\n",
    "import urllib3\n",
    "import requests\n",
    "from bs4 import BeautifulSoup\n",
    "#處理資料套件\n",
    "import pandas as pd\n",
    "from datetime import datetime\n",
    "from io import StringIO\n",
    "import json\n",
    "#仔仔\n",
    "from headers import *\n",
    "import controllers\n",
    "\n",
    "import importlib\n",
    "importlib.reload(controllers)\n",
    "controller = controllers.FuturesDataController()"
   ]
  },
  {
   "cell_type": "code",
   "execution_count": 2,
   "metadata": {},
   "outputs": [
    {
     "name": "stdout",
     "output_type": "stream",
     "text": [
      "爬取日期: 20241030\n",
      "成功連接到 MongoDB!\n",
      "成功插入 1 條文檔\n",
      "MongoDB 連接已關閉\n",
      "爬取日期: 2024/10/30\n",
      "爬取成功\n",
      "轉換成功\n"
     ]
    },
    {
     "name": "stderr",
     "output_type": "stream",
     "text": [
      "/Users/hayden/Documents/pyDB/controllers.py:63: SettingWithCopyWarning: \n",
      "A value is trying to be set on a copy of a slice from a DataFrame.\n",
      "Try using .loc[row_indexer,col_indexer] = value instead\n",
      "\n",
      "See the caveats in the documentation: https://pandas.pydata.org/pandas-docs/stable/user_guide/indexing.html#returning-a-view-versus-a-copy\n",
      "  df_filter[col] = pd.to_numeric(df_filter[col].astype(str).str.replace(',', ''), errors='coerce')\n",
      "/Users/hayden/Documents/pyDB/controllers.py:63: SettingWithCopyWarning: \n",
      "A value is trying to be set on a copy of a slice from a DataFrame.\n",
      "Try using .loc[row_indexer,col_indexer] = value instead\n",
      "\n",
      "See the caveats in the documentation: https://pandas.pydata.org/pandas-docs/stable/user_guide/indexing.html#returning-a-view-versus-a-copy\n",
      "  df_filter[col] = pd.to_numeric(df_filter[col].astype(str).str.replace(',', ''), errors='coerce')\n",
      "/Users/hayden/Documents/pyDB/controllers.py:63: SettingWithCopyWarning: \n",
      "A value is trying to be set on a copy of a slice from a DataFrame.\n",
      "Try using .loc[row_indexer,col_indexer] = value instead\n",
      "\n",
      "See the caveats in the documentation: https://pandas.pydata.org/pandas-docs/stable/user_guide/indexing.html#returning-a-view-versus-a-copy\n",
      "  df_filter[col] = pd.to_numeric(df_filter[col].astype(str).str.replace(',', ''), errors='coerce')\n",
      "/Users/hayden/Documents/pyDB/controllers.py:63: SettingWithCopyWarning: \n",
      "A value is trying to be set on a copy of a slice from a DataFrame.\n",
      "Try using .loc[row_indexer,col_indexer] = value instead\n",
      "\n",
      "See the caveats in the documentation: https://pandas.pydata.org/pandas-docs/stable/user_guide/indexing.html#returning-a-view-versus-a-copy\n",
      "  df_filter[col] = pd.to_numeric(df_filter[col].astype(str).str.replace(',', ''), errors='coerce')\n",
      "/Users/hayden/Documents/pyDB/controllers.py:63: SettingWithCopyWarning: \n",
      "A value is trying to be set on a copy of a slice from a DataFrame.\n",
      "Try using .loc[row_indexer,col_indexer] = value instead\n",
      "\n",
      "See the caveats in the documentation: https://pandas.pydata.org/pandas-docs/stable/user_guide/indexing.html#returning-a-view-versus-a-copy\n",
      "  df_filter[col] = pd.to_numeric(df_filter[col].astype(str).str.replace(',', ''), errors='coerce')\n",
      "/Users/hayden/Documents/pyDB/controllers.py:63: SettingWithCopyWarning: \n",
      "A value is trying to be set on a copy of a slice from a DataFrame.\n",
      "Try using .loc[row_indexer,col_indexer] = value instead\n",
      "\n",
      "See the caveats in the documentation: https://pandas.pydata.org/pandas-docs/stable/user_guide/indexing.html#returning-a-view-versus-a-copy\n",
      "  df_filter[col] = pd.to_numeric(df_filter[col].astype(str).str.replace(',', ''), errors='coerce')\n",
      "/Users/hayden/Documents/pyDB/controllers.py:63: SettingWithCopyWarning: \n",
      "A value is trying to be set on a copy of a slice from a DataFrame.\n",
      "Try using .loc[row_indexer,col_indexer] = value instead\n",
      "\n",
      "See the caveats in the documentation: https://pandas.pydata.org/pandas-docs/stable/user_guide/indexing.html#returning-a-view-versus-a-copy\n",
      "  df_filter[col] = pd.to_numeric(df_filter[col].astype(str).str.replace(',', ''), errors='coerce')\n",
      "/Users/hayden/Documents/pyDB/controllers.py:63: SettingWithCopyWarning: \n",
      "A value is trying to be set on a copy of a slice from a DataFrame.\n",
      "Try using .loc[row_indexer,col_indexer] = value instead\n",
      "\n",
      "See the caveats in the documentation: https://pandas.pydata.org/pandas-docs/stable/user_guide/indexing.html#returning-a-view-versus-a-copy\n",
      "  df_filter[col] = pd.to_numeric(df_filter[col].astype(str).str.replace(',', ''), errors='coerce')\n",
      "/Users/hayden/Documents/pyDB/controllers.py:63: SettingWithCopyWarning: \n",
      "A value is trying to be set on a copy of a slice from a DataFrame.\n",
      "Try using .loc[row_indexer,col_indexer] = value instead\n",
      "\n",
      "See the caveats in the documentation: https://pandas.pydata.org/pandas-docs/stable/user_guide/indexing.html#returning-a-view-versus-a-copy\n",
      "  df_filter[col] = pd.to_numeric(df_filter[col].astype(str).str.replace(',', ''), errors='coerce')\n",
      "/Users/hayden/Documents/pyDB/controllers.py:63: SettingWithCopyWarning: \n",
      "A value is trying to be set on a copy of a slice from a DataFrame.\n",
      "Try using .loc[row_indexer,col_indexer] = value instead\n",
      "\n",
      "See the caveats in the documentation: https://pandas.pydata.org/pandas-docs/stable/user_guide/indexing.html#returning-a-view-versus-a-copy\n",
      "  df_filter[col] = pd.to_numeric(df_filter[col].astype(str).str.replace(',', ''), errors='coerce')\n",
      "/Users/hayden/Documents/pyDB/controllers.py:63: SettingWithCopyWarning: \n",
      "A value is trying to be set on a copy of a slice from a DataFrame.\n",
      "Try using .loc[row_indexer,col_indexer] = value instead\n",
      "\n",
      "See the caveats in the documentation: https://pandas.pydata.org/pandas-docs/stable/user_guide/indexing.html#returning-a-view-versus-a-copy\n",
      "  df_filter[col] = pd.to_numeric(df_filter[col].astype(str).str.replace(',', ''), errors='coerce')\n",
      "/Users/hayden/Documents/pyDB/controllers.py:63: SettingWithCopyWarning: \n",
      "A value is trying to be set on a copy of a slice from a DataFrame.\n",
      "Try using .loc[row_indexer,col_indexer] = value instead\n",
      "\n",
      "See the caveats in the documentation: https://pandas.pydata.org/pandas-docs/stable/user_guide/indexing.html#returning-a-view-versus-a-copy\n",
      "  df_filter[col] = pd.to_numeric(df_filter[col].astype(str).str.replace(',', ''), errors='coerce')\n"
     ]
    },
    {
     "name": "stdout",
     "output_type": "stream",
     "text": [
      "成功連接到 MongoDB!\n",
      "成功插入 6721d80886eb7057a86616ae 條文檔\n",
      "MongoDB 連接已關閉\n"
     ]
    },
    {
     "data": {
      "text/plain": [
       "'成功更新 9 條記錄到 MongoDB'"
      ]
     },
     "execution_count": 2,
     "metadata": {},
     "output_type": "execute_result"
    }
   ],
   "source": [
    "update_date = \"2024/10/30\"\n",
    "controller.update_twse_data(update_date)\n",
    "controller.update_taifex_data(update_date)"
   ]
  },
  {
   "cell_type": "code",
   "execution_count": null,
   "metadata": {},
   "outputs": [],
   "source": []
  },
  {
   "cell_type": "code",
   "execution_count": 3,
   "metadata": {},
   "outputs": [],
   "source": [
    "url = \"https://www.taifex.com.tw/cht/3/futContractsDateAh\"\n",
    "date=\"2024/09/09\"\n",
    "params = {\n",
    "             'queryType': '2',\n",
    "             'goDay': '',\n",
    "             'doQuery': '1',\n",
    "             'dateaddcnt': '',\n",
    "             'queryDate': date\n",
    "         }\n",
    "response = requests.post(url,headers=TAIFEX_OI,data=params)\n",
    "response.raise_for_status()\n"
   ]
  },
  {
   "cell_type": "code",
   "execution_count": null,
   "metadata": {},
   "outputs": [],
   "source": [
    "soup = BeautifulSoup(response.content,'html.parser')\n",
    "table = soup.table\n",
    "df = pd.read_html(StringIO(str(table)))\n",
    "df = df[0]\n",
    "df"
   ]
  },
  {
   "cell_type": "code",
   "execution_count": null,
   "metadata": {},
   "outputs": [],
   "source": [
    "#df.drop(columns = df.columns[0],axis=1,inplace=True)\n",
    "df.columns=['序號','商品名稱','身份別','多方交易口數','多方交易金額','空方交易口數','空方交易金額','交易淨口數','交易淨金額']\n",
    "df = df[[col for col in df.columns if col!='序號']]\n",
    "\n",
    "df_filter = df.loc[df['商品名稱'].isin(['臺股期貨','小型臺指期貨','微型台指期貨'])]\n",
    "\n",
    "numeric_columns = ['多方交易口數','多方交易金額','空方交易口數','空方交易金額','交易淨口數','交易淨金額']\n",
    "\n",
    "for col in numeric_columns:\n",
    "    df_filter[col] = pd.to_numeric(df_filter[col].astype(str).str.replace(',',''),errors='coerce')\n",
    "\n",
    "df_filter"
   ]
  },
  {
   "cell_type": "code",
   "execution_count": null,
   "metadata": {},
   "outputs": [],
   "source": [
    "df = controller.crawler_taifex_vix(\"2024/09/09\")\n",
    "df"
   ]
  },
  {
   "cell_type": "code",
   "execution_count": null,
   "metadata": {},
   "outputs": [],
   "source": [
    "date = \"2024/09/09\"\n",
    "dates = date.split('/')\n",
    "params = dates[0]+dates[1].zfill(2)\n",
    "url = \"https://www.taifex.com.tw/file/taifex/Dailydownload/vix/log2data/{params}new.txt\"\n",
    "url"
   ]
  },
  {
   "cell_type": "markdown",
   "metadata": {},
   "source": [
    "主程式碼"
   ]
  },
  {
   "cell_type": "code",
   "execution_count": null,
   "metadata": {},
   "outputs": [],
   "source": [
    "url = \"https://www.taifex.com.tw/file/taifex/Dailydownload/vix/log2data/202409new.txt\"\n",
    "response = requests.post(url)\n",
    "response.encoding = \"big5\"\n",
    "df = pd.read_csv(StringIO(response.text),sep=r\"\\t+\",index_col = False,encoding='big5',skiprows=[1],engine='python')\n",
    "df = df.rename(columns={'交易日期':'date'})\n",
    "df['date'] = pd.to_datetime(df['date'],format=\"%Y%m%d\")\n",
    "df = df[['date','臺指選擇權波動率指數']]"
   ]
  },
  {
   "cell_type": "code",
   "execution_count": null,
   "metadata": {},
   "outputs": [],
   "source": [
    "#df = df[['date','臺指選擇權波動率指數']]\n",
    "df"
   ]
  },
  {
   "cell_type": "code",
   "execution_count": null,
   "metadata": {},
   "outputs": [],
   "source": [
    "url = \"https://www.taifex.com.tw/cht/3/futContractsDate\"\n",
    "#querydate = datetime.now().strftime(\"%Y/%m/%d\")\n",
    "querydate = \"2024/08/26\"\n",
    "print(f\"爬取日期: {querydate}\")\n",
    "params = {\n",
    "        'queryType': '2',\n",
    "        'goDay': '',\n",
    "        'doQuery': '1',\n",
    "        'dateaddcnt': '',\n",
    "        'queryDate': querydate\n",
    "    }\n",
    "\n",
    "response = requests.post(url,headers=TAIFEX_OI,data=params)\n",
    "\n",
    "if response.status_code == 200:\n",
    "    dfs = pd.read_html(StringIO(response.text))\n",
    "    if len(dfs) > 0:\n",
    "        print(len(dfs))\n",
    "        tdf = dfs[0]\n",
    "        print(\"show\")\n",
    "        tdf\n",
    "    \n",
    "    else:\n",
    "        print(\"沒有找到數據表格\")\n",
    "        \n",
    "else:\n",
    "    print(f\"請求失敗，狀態碼：{response.status_code}\")\n",
    "        \n"
   ]
  },
  {
   "cell_type": "code",
   "execution_count": null,
   "metadata": {},
   "outputs": [],
   "source": [
    "soup = BeautifulSoup(response.content, 'html.parser')\n",
    "table = soup.table\n",
    "table\n"
   ]
  },
  {
   "cell_type": "code",
   "execution_count": null,
   "metadata": {},
   "outputs": [],
   "source": [
    "df = pd.read_html(StringIO(str(table)))\n",
    "df"
   ]
  },
  {
   "cell_type": "code",
   "execution_count": null,
   "metadata": {},
   "outputs": [],
   "source": [
    "print(len(df))\n",
    "df = df[0]"
   ]
  },
  {
   "cell_type": "code",
   "execution_count": 217,
   "metadata": {},
   "outputs": [],
   "source": [
    "#df.to_csv('test.csv', index=False, encoding='utf-8-sig')"
   ]
  },
  {
   "cell_type": "code",
   "execution_count": null,
   "metadata": {},
   "outputs": [],
   "source": [
    "df.drop(columns = df.columns[0],axis=1,inplace=True)\n",
    "df.head()\n"
   ]
  },
  {
   "cell_type": "code",
   "execution_count": null,
   "metadata": {},
   "outputs": [],
   "source": [
    "df.columns=['商品名稱','身份別','多方交易口數','多方交易金額','空方交易口數','空方交易金額','交易淨口數','交易淨金額','多方未平倉口數','多方未平倉金額','空方未平倉口數','空方未平倉金額','未平倉淨口數','未平倉淨金額']\n",
    "df"
   ]
  },
  {
   "cell_type": "markdown",
   "metadata": {},
   "source": [
    "#篩選指定的期貨類型"
   ]
  },
  {
   "cell_type": "code",
   "execution_count": null,
   "metadata": {},
   "outputs": [],
   "source": [
    "df_filter = df.loc[df['商品名稱'].isin(['臺股期貨','小型臺指期貨','微型臺指期貨'])]\n",
    "df_filter"
   ]
  },
  {
   "cell_type": "markdown",
   "metadata": {},
   "source": [
    "#載入MongoDB套件"
   ]
  },
  {
   "cell_type": "code",
   "execution_count": 221,
   "metadata": {},
   "outputs": [],
   "source": [
    "from pymongo import MongoClient\n",
    "from pymongo.server_api import ServerApi\n",
    "import json"
   ]
  },
  {
   "cell_type": "code",
   "execution_count": null,
   "metadata": {},
   "outputs": [],
   "source": [
    "\n",
    "\n",
    "# 從配置文件讀取連接信息\n",
    "with open('config.json') as config_file:\n",
    "    config = json.load(config_file)\n",
    "\n",
    "mongo_user = config['mongo_user']\n",
    "mongo_pass = config['mongo_pass']\n",
    "mongo_host = config['mongo_host']\n",
    "\n",
    "# 構建連接 URI\n",
    "db_uri = f\"mongodb+srv://{mongo_user}:{mongo_pass}@{mongo_host}/?retryWrites=true&w=majority&appName=FDB\"\n",
    "\n",
    "# 創建客戶端連接\n",
    "client = MongoClient(db_uri, server_api=ServerApi('1'))\n",
    "\n",
    "try:\n",
    "    client.admin.command('ping')\n",
    "    print(\"Pinged your deployment. You successfully connected to MongoDB!\")\n",
    "except Exception as e:\n",
    "    print(e)\n",
    "\n"
   ]
  },
  {
   "cell_type": "code",
   "execution_count": null,
   "metadata": {},
   "outputs": [],
   "source": [
    "# 進行數據操作...\n",
    "client = MongoClient(db_uri, server_api=ServerApi('1'))\n",
    "db = client['findata']\n",
    "collection = db['txf_oi']\n",
    "\n",
    "#檢查是否已存在該日期數據\n",
    "existing_data = collection.find_one({'date':querydate})\n",
    "if existing_data:\n",
    "    print(f\"{querydate}的數據已存在,跳過存入\")\n",
    "\n",
    "\n",
    "data_dict = df_filter.to_dict('records')\n",
    "\n",
    "for record in data_dict:\n",
    "    record['date'] = datetime.strptime(querydate,\"%Y/%m/%d\")\n",
    "\n",
    "\n",
    "\n",
    "result = collection.insert_many(data_dict)\n",
    "print(f\"成功插入 {len(result.inserted_ids)} 條文檔\")\n",
    "\n",
    "client.close()\n",
    "\n"
   ]
  },
  {
   "cell_type": "code",
   "execution_count": null,
   "metadata": {},
   "outputs": [],
   "source": [
    "\n",
    "# 可選：驗證插入的數據\n",
    "# 重新連接並查詢數據\n",
    "client = MongoClient(db_uri, server_api=ServerApi('1'))\n",
    "db = client['findata']\n",
    "collection = db['txf_oi']\n",
    "\n",
    "# 查詢並打印前幾條數據\n",
    "for doc in collection.find().limit(5):\n",
    "    print(doc)\n",
    "\n",
    "\n",
    "client.close()"
   ]
  },
  {
   "cell_type": "code",
   "execution_count": null,
   "metadata": {},
   "outputs": [],
   "source": []
  }
 ],
 "metadata": {
  "kernelspec": {
   "display_name": "Python 3",
   "language": "python",
   "name": "python3"
  },
  "language_info": {
   "codemirror_mode": {
    "name": "ipython",
    "version": 3
   },
   "file_extension": ".py",
   "mimetype": "text/x-python",
   "name": "python",
   "nbconvert_exporter": "python",
   "pygments_lexer": "ipython3",
   "version": "3.11.7"
  }
 },
 "nbformat": 4,
 "nbformat_minor": 2
}
