{
 "cells": [
  {
   "cell_type": "code",
   "execution_count": null,
   "metadata": {},
   "outputs": [],
   "source": [
    "import os\n",
    "from urllib.request import urlretrieve\n",
    "import zipfile\n",
    "from datetime import datetime, timedelta\n",
    "import pandas as pd\n",
    "\n",
    "# 設置下載目錄的路徑\n",
    "download_dir = os.path.join(os.getcwd(), \"dailydata\",\"tx_zip\")\n",
    "today = datetime.today()\n",
    "yesterday = today\n",
    "\n",
    "# 循環下載多天的數據\n",
    "for daycnt in range(1, 5):\n",
    "    path = yesterday.strftime('%Y_%m_%d')\n",
    "    name = 'Daily_' + path + '.zip'\n",
    "    download_path = 'https://www.taifex.com.tw/file/taifex/Dailydownload/DailydownloadCSV/' + name\n",
    "    \n",
    "    #save_dir = os.path.join(download_dir, name.replace('.zip', ''))\n",
    "    \n",
    "    # 检查并创建目录\n",
    "    os.makedirs(download_dir, exist_ok=True)\n",
    "    \n",
    "    try:\n",
    "        # 下载 ZIP 文件\n",
    "        filename, _ = urlretrieve(download_path)\n",
    "        print(f\"下载完成：{download_path}\")\n",
    "        \n",
    "        # 解壓縮並讀取CSV\n",
    "        with zipfile.ZipFile(filename) as z:\n",
    "            # 獲取Zip文件裡面的CSV名稱\n",
    "            csv_name = next(f for f in z.namelist() if f.lower().endswith('.csv'))\n",
    "            \n",
    "            # 解壓縮並讀取CSV\n",
    "            with z.open(csv_name) as f:\n",
    "                df = pd.read_csv(f, encoding='big5', low_memory=False)\n",
    "            \n",
    "            print(f\"CSV 文件已读取，共 {len(df)} 筆數據，開始整理\")\n",
    "        \n",
    "        # 篩選台指期貨的商品\n",
    "        df['商品代號'] = df['商品代號'].str.strip()\n",
    "        df_tx = df[df['商品代號'] == 'TX'].copy()  # 使用.copy()避免SettingWithCopyWarning\n",
    "        \n",
    "        # 排除差價合約，避免資料選取錯誤\n",
    "        df_tx.loc[:, '到期月份(週別)'] = df_tx['到期月份(週別)'].astype(str)\n",
    "        df_tx = df_tx[~df_tx['到期月份(週別)'].str.contains('/')]\n",
    "        front_month = str(pd.to_numeric(df_tx['到期月份(週別)']).min())\n",
    "        \n",
    "        # 僅保留近月合約的ohlc\n",
    "        df_tx = df_tx[df_tx['到期月份(週別)'].str.strip() == front_month]\n",
    "        \n",
    "        # 確保價格是數值型態\n",
    "        df_tx['成交價格'] = pd.to_numeric(df_tx['成交價格'], errors='coerce')\n",
    "        \n",
    "        # 處理日期時間\n",
    "        df_tx['datetime'] = pd.to_datetime(\n",
    "            df_tx['成交日期'].astype(str) + ' ' + \n",
    "            df_tx['成交時間'].astype(str).str.zfill(6),\n",
    "            format='%Y%m%d %H%M%S'\n",
    "        )\n",
    "        \n",
    "        # 設置時間索引\n",
    "        df_tx.set_index('datetime', inplace=True)\n",
    "        \n",
    "        # 整理1分K 開高低收 open, high,low,close\n",
    "        ohlc = df_tx.resample('1Min').agg({\n",
    "            '成交價格': [\n",
    "                ('開盤價', 'first'),\n",
    "                ('最高價', 'max'),\n",
    "                ('最低價', 'min'),\n",
    "                ('收盤價', 'last')\n",
    "            ]\n",
    "        })\n",
    "        \n",
    "        # 刪除沒數據的K線\n",
    "        ohlc = ohlc.dropna()\n",
    "        ohlc.reset_index(inplace=True)\n",
    "        \n",
    "        # 重置數據欄位\n",
    "        ohlc.columns = ['datetime', '開盤價', '最高價', '最低價', '收盤價']\n",
    "        \n",
    "        # 增加1分钟 15:01為第一根K線\n",
    "        ohlc['datetime'] = ohlc['datetime'] + pd.Timedelta(minutes=1)  # 多加上1分鐘，來符合資料庫的規則\n",
    "        \n",
    "        # 新增日期和時間欄位\n",
    "        ohlc['日期'] = ohlc['datetime'].dt.strftime('%Y-%m-%d')\n",
    "        ohlc['時間'] = ohlc['datetime'].dt.strftime('%H:%M:%S')\n",
    "        \n",
    "        # 轉成Multichart使用的, txt mapping\n",
    "        result = ohlc[['日期', '時間', '開盤價', '最高價', '最低價', '收盤價']]\n",
    "        txt_content = result.apply(\n",
    "            lambda row: f\"{row['日期']},{row['時間']},{row['開盤價']},{row['最高價']},{row['最低價']},{row['收盤價']}\",\n",
    "            axis=1\n",
    "        ).str.cat(sep='\\n')\n",
    "        \n",
    "        # 创建txt文件目录\n",
    "        #txt_file = os.path.join(download_path, 'tx_1min')\n",
    "        #os.makedirs(txt_file, exist_ok=True)\n",
    "        \n",
    "        # 保存txt文件\n",
    "        tx_dir = os.path.join(download_dir, yesterday.strftime('%Y%m%d') + '.txt')\n",
    "        \n",
    "        with open(tx_dir, 'w', encoding='utf-8') as f:\n",
    "            f.write(txt_content)\n",
    "            \n",
    "        print(f\"已完成處理並保存至：{tx_dir}\")\n",
    "        \n",
    "    except Exception as e:\n",
    "        print(f\"處理過程中發生的錯誤：{e}\")\n",
    "        \n",
    "    finally:\n",
    "        yesterday = yesterday - timedelta(days=1)\n",
    "        # 清理臨時的暫存檔\n",
    "        if os.path.exists(filename):\n",
    "            os.remove(filename)"
   ]
  },
  {
   "cell_type": "code",
   "execution_count": null,
   "metadata": {},
   "outputs": [],
   "source": [
    "import pandas as pd\n",
    "from datetime import datetime,timedelta,date\n",
    "import os\n",
    "from urllib.request import urlretrieve\n",
    "import zipfile\n",
    "from pathlib import Path"
   ]
  },
  {
   "cell_type": "code",
   "execution_count": null,
   "metadata": {},
   "outputs": [],
   "source": [
    "today = datetime.today()\n",
    "yesterday = today\n",
    "\n",
    "path = yesterday.strftime('%Y_%m_%d')\n",
    "path = '2024_10_23'\n",
    "name = 'Daily_'+ path\n",
    "download_path = 'https://www.taifex.com.tw/file/taifex/Dailydownload/DailydownloadCSV/' + name + '.zip'\n",
    "download_dir = os.path.join(os.getcwd(),\"dailydata\")\n",
    "\n",
    "save_dir = os.path.join(download_dir,name )\n",
    "save_path = os.path.join(save_dir, f'{name}.zip')\n",
    "os.makedirs(save_dir,exist_ok=True)\n",
    "\n",
    "print(download_path)\n",
    "print(save_dir)\n"
   ]
  },
  {
   "cell_type": "code",
   "execution_count": null,
   "metadata": {},
   "outputs": [],
   "source": [
    "filename,headers = urlretrieve(download_path, save_path)"
   ]
  },
  {
   "cell_type": "code",
   "execution_count": null,
   "metadata": {},
   "outputs": [],
   "source": [
    "# 下載 ZIP 檔案\n",
    "print(f\"開始下載：{download_path}\")\n",
    "\n",
    "#下載\n",
    "filename,_ = urlretrieve(download_path)\n",
    "print(f\"下載完成：{save_dir}\")\n",
    "\n",
    "# 解壓縮並讀取 CSV\n",
    "with zipfile.ZipFile(filename) as z:\n",
    "    # 取得 ZIP 中的 CSV 檔名\n",
    "    csv_name = [x for x in z.namelist() if x.lower().endswith('.csv')][0]\n",
    "    # 解壓縮 CSV 到相同目錄\n",
    "    #csv_path = os.path.join(download_dir, csv_file)\n",
    "    #zip_ref.extract(csv_file, download_dir)\n",
    "    #print(f\"已解壓縮 CSV 檔案：{csv_path}\")\n",
    "    with z.open(csv_name) as f:\n",
    "        df = pd.read_csv(f,encoding='big5')"
   ]
  },
  {
   "cell_type": "code",
   "execution_count": null,
   "metadata": {},
   "outputs": [],
   "source": [
    "#urlretrieve(download_path, save_dir)"
   ]
  },
  {
   "cell_type": "code",
   "execution_count": null,
   "metadata": {},
   "outputs": [],
   "source": [
    " # 讀取 CSV 檔案（使用 pandas）\n",
    "print(f\"CSV 檔案已讀取，共 {len(df)} 筆資料，開始整理資料\")\n",
    "df['商品代號'] = df['商品代號'].str.strip()\n",
    "#篩選'TX'\n",
    "df_tx = df[df['商品代號'] == 'TX']\n",
    "\n",
    "#排除差價合約\n",
    "df_tx['到期月份(週別)'] = df_tx['到期月份(週別)'].astype(str)\n",
    "df_tx = df_tx[~df_tx['到期月份(週別)'].str.contains('/')]\n",
    "front_month = str(pd.to_numeric(df_tx['到期月份(週別)']).min())\n",
    "front_month\n",
    "#僅保留近月合約\n",
    "df_tx = df_tx[df_tx['到期月份(週別)'].str.strip() == front_month]\n",
    "\n",
    "# 確保價格是數值型態\n",
    "df_tx['成交價格'] = pd.to_numeric(df_tx['成交價格'], errors='coerce')\n",
    "\n",
    "# 處理日期時間\n",
    "df_tx['datetime'] = pd.to_datetime(\n",
    "    df_tx['成交日期'].astype(str) + ' ' + \n",
    "    df_tx['成交時間'].astype(str).str.zfill(6),\n",
    "    format='%Y%m%d %H%M%S')\n",
    "df_tx"
   ]
  },
  {
   "cell_type": "code",
   "execution_count": null,
   "metadata": {},
   "outputs": [],
   "source": [
    "# 設定時間索引\n",
    "df_tx.set_index('datetime', inplace=True)\n",
    "df_tx"
   ]
  },
  {
   "cell_type": "code",
   "execution_count": null,
   "metadata": {},
   "outputs": [],
   "source": [
    "#整理1分K 開高低收\n",
    "ohlc = df_tx.resample('1Min').agg({\n",
    "    '成交價格': [\n",
    "        ('開盤價', 'first'),\n",
    "        ('最高價', 'max'),\n",
    "        ('最低價', 'min'),\n",
    "        ('收盤價', 'last')\n",
    "    ]\n",
    "})\n",
    "#刪除沒資料K\n",
    "ohlc = ohlc.dropna()\n",
    "ohlc.reset_index(inplace=True)\n",
    "\n"
   ]
  },
  {
   "cell_type": "code",
   "execution_count": null,
   "metadata": {},
   "outputs": [],
   "source": [
    "ohlc"
   ]
  },
  {
   "cell_type": "code",
   "execution_count": null,
   "metadata": {},
   "outputs": [],
   "source": [
    "ohlc.columns = ['datetime','開盤價', '最高價', '最低價', '收盤價']\n",
    "ohlc"
   ]
  },
  {
   "cell_type": "code",
   "execution_count": null,
   "metadata": {},
   "outputs": [],
   "source": [
    "#增加1分鐘 15:01為第一根K棒\n",
    "ohlc['datetime'] = ohlc['datetime'] + pd.Timedelta(minutes =1)\n",
    "ohlc"
   ]
  },
  {
   "cell_type": "code",
   "execution_count": null,
   "metadata": {},
   "outputs": [],
   "source": [
    "ohlc['日期'] = ohlc['datetime'].dt.strftime('%Y-%m-%d')\n",
    "ohlc['時間'] = ohlc['datetime'].dt.strftime('%H:%M:%S')\n",
    "ohlc"
   ]
  },
  {
   "cell_type": "code",
   "execution_count": null,
   "metadata": {},
   "outputs": [],
   "source": [
    "result= ohlc[['日期','時間','開盤價','最高價','最低價','收盤價']]\n",
    "result"
   ]
  },
  {
   "cell_type": "code",
   "execution_count": null,
   "metadata": {},
   "outputs": [],
   "source": [
    "txt_content = result.apply(\n",
    "    lambda row: f\"{row['日期']},{row['時間']},{row['開盤價']},{row['最高價']},{row['最低價']},{row['收盤價']}\",\n",
    "    axis = 1\n",
    ").str.cat(sep='\\n')"
   ]
  },
  {
   "cell_type": "code",
   "execution_count": null,
   "metadata": {},
   "outputs": [],
   "source": [
    "txt_content"
   ]
  },
  {
   "cell_type": "code",
   "execution_count": null,
   "metadata": {},
   "outputs": [],
   "source": [
    "txt_file = os.path.join(save_dir, f'TX.txt')\n",
    "\n",
    "with open(txt_file,'w',encoding='utf-8') as f:\n",
    "    f.write(txt_content)"
   ]
  },
  {
   "cell_type": "code",
   "execution_count": null,
   "metadata": {},
   "outputs": [],
   "source": [
    "try:\n",
    "    # 下載 ZIP 檔案\n",
    "    print(f\"開始下載：{download_path}\")\n",
    "    filename,_ = urlretrieve(download_path)\n",
    "    print(f\"下載完成：{save_dir}\")\n",
    " \n",
    "    # 解壓縮並讀取 CSV\n",
    "    with zipfile.ZipFile(filename) as z:\n",
    "        # 取得 ZIP 中的 CSV 檔名\n",
    "        csv_name = [x for x in z.namelist() if x.lower().endswith('.csv')][0]\n",
    "\n",
    "        # 解壓縮 CSV 到相同目錄\n",
    "        #csv_path = os.path.join(download_dir, csv_file)\n",
    "        #zip_ref.extract(csv_file, download_dir)\n",
    "\n",
    "        #print(f\"已解壓縮 CSV 檔案：{csv_path}\")\n",
    "        with z.open(csv_name) as f:\n",
    "            df = pd.read_csv(f,encoding='big5')\n",
    "\n",
    "        # 讀取 CSV 檔案（使用 pandas）\n",
    "\n",
    "        print(f\"CSV 檔案已讀取，共 {len(df)} 筆資料，開始整理資料\")\n",
    "        df['商品代號'] = df['商品代號'].str.strip()\n",
    "        df_tx = df[df['商品代號'] == 'TX']\n",
    "        df_tx['datetime'] = pd.to_datetime(df_tx['成交日期'].astype(str) + ' ' + df_tx['成交時間'].astype(str).str.zfill(6),format='%Y%m%d %H%M%S')\n",
    "\n",
    "        #僅保留近月合約\n",
    "        front_month = df_tx['到期月份(週別)'].str.strip().min()\n",
    "        df_tx = df_tx[df_tx['到期月份(週別)'].str.strip() == front_month]\n",
    "        df_tx.set_index('datetime',inplace=True)\n",
    "        \n",
    "        #整理1分K 開高低收\n",
    "        ohlc = df_tx.resample('1Min').agg({\n",
    "            '成交價格': [\n",
    "                ('開盤價', 'first'),\n",
    "                ('最高價', 'max'),\n",
    "                ('最低價', 'min'),\n",
    "                ('收盤價', 'last')\n",
    "            ]\n",
    "        })\n",
    "\n",
    "        #刪除沒資料K\n",
    "        ohlc = ohlc.dropna()\n",
    "        ohlc.reset_index(inplace=True)\n",
    "\n",
    "        #增加1分鐘 15:01為第一根K棒\n",
    "        ohlc['datetime'] = ohlc['datetime'] + pd.timedelta(mintues =1)\n",
    "        ohlc['日期'] = ohlc['datetime'].dt.strftime('%Y/%m/%d')\n",
    "        ohlc['時間'] = ohlc['datetime'].dt.strftime('%H;%M')\n",
    "\n",
    "\n",
    "        #轉成Multichart使用的txt mapping\n",
    "        \n",
    "        \n",
    "        # 可以選擇是否要刪除原始的 ZIP 檔案\n",
    "        # os.remove(save_dir)\n",
    "        # print(\"已刪除 ZIP 檔案\")\n",
    "except Exception as e:\n",
    "    print(f\"處理過程中發生錯誤：{e}\")"
   ]
  },
  {
   "cell_type": "code",
   "execution_count": null,
   "metadata": {},
   "outputs": [],
   "source": [
    "today = datetime.today()\n",
    "download_time = today.strftime('%Y_%m_%d')\n",
    "name = 'Daily_'+'2024_10_28'+'.zip'\n",
    "download_path = 'https://www.taifex.com.tw/file/taifex/Dailydownload/DailydownloadCSV/' + name\n",
    "current_dir = os.getcwd()\n",
    "download_dir = os.path.join(current_dir,\"dailydata\")\n",
    "save_dir = os.path.join(download_dir,name)\n",
    "\n",
    "#確保下載目錄存在\n",
    "\n"
   ]
  },
  {
   "cell_type": "code",
   "execution_count": null,
   "metadata": {},
   "outputs": [],
   "source": [
    "try:\n",
    "    # 下載 ZIP 檔案\n",
    "    print(f\"開始下載：{download_path}\")\n",
    "    urlretrieve(download_path, save_dir)\n",
    "    print(f\"下載完成：{save_dir}\")\n",
    "    \n",
    "    # 解壓縮並讀取 CSV\n",
    "    with zipfile.ZipFile(save_dir, 'r') as zip_ref:\n",
    "        # 取得 ZIP 中的 CSV 檔名\n",
    "        csv_file = next(f for f in zip_ref.namelist() if f.lower().endswith('.csv'))\n",
    "        \n",
    "        # 解壓縮 CSV 到相同目錄\n",
    "        csv_path = os.path.join(download_dir, csv_file)\n",
    "        zip_ref.extract(csv_file, download_dir)\n",
    "        \n",
    "        print(f\"已解壓縮 CSV 檔案：{csv_path}\")\n",
    "        \n",
    "        # 讀取 CSV 檔案（使用 pandas）\n",
    "        try:\n",
    "            # 先嘗試 utf-8\n",
    "            df = pd.read_csv(csv_path)\n",
    "        except UnicodeDecodeError:\n",
    "            # 如果失敗，嘗試 big5\n",
    "            df = pd.read_csv(csv_path, encoding='big5')\n",
    "        \n",
    "        print(f\"CSV 檔案已讀取，共 {len(df)} 筆資料\")\n",
    "        \n",
    "        # 可以選擇是否要刪除原始的 ZIP 檔案\n",
    "        # os.remove(save_dir)\n",
    "        # print(\"已刪除 ZIP 檔案\")\n",
    "        \n",
    "except Exception as e:\n",
    "    print(f\"處理過程中發生錯誤：{e}\")\n",
    "\n",
    "# 如果你需要對 DataFrame 進行其他處理\n",
    "# 例如：儲存為新的 CSV 檔案\n",
    "# df.to_csv(os.path.join(download_dir, 'processed.csv'), index=False)"
   ]
  },
  {
   "cell_type": "code",
   "execution_count": null,
   "metadata": {},
   "outputs": [],
   "source": [
    "csv_path = os.path.join(download_dir,'Daily_2024_10_28.csv')\n",
    "df = pd.read_csv(csv_path, encoding='big5')\n",
    "df['商品代號'] = df['商品代號'].str.strip()\n",
    "df"
   ]
  },
  {
   "cell_type": "code",
   "execution_count": null,
   "metadata": {},
   "outputs": [],
   "source": [
    "df_tx = df[df['商品代號']== 'TX']\n",
    "df_tx"
   ]
  },
  {
   "cell_type": "code",
   "execution_count": null,
   "metadata": {},
   "outputs": [],
   "source": [
    "df_tx['datetime'] = pd.to_datetime(df_tx['成交日期'].astype(str) + ' ' + df_tx['成交時間'].astype(str).str.zfill(6),format='%Y%m%d %H%M%S')\n",
    "df_tx"
   ]
  },
  {
   "cell_type": "code",
   "execution_count": null,
   "metadata": {},
   "outputs": [],
   "source": [
    "front_month = df_tx['到期月份(週別)'].str.strip().min()\n",
    "front_month"
   ]
  },
  {
   "cell_type": "code",
   "execution_count": null,
   "metadata": {},
   "outputs": [],
   "source": [
    "df_tx = df_tx[df_tx['到期月份(週別)'].str.strip() == front_month]\n",
    "df_tx"
   ]
  },
  {
   "cell_type": "code",
   "execution_count": null,
   "metadata": {},
   "outputs": [],
   "source": [
    "#df_tx = df_tx[(df_tx['datetime'].dt.time >= start_time) & (df_tx['datetime'].dt.time <= end_time)]\n",
    "\n",
    "df_tx.set_index('datetime',inplace=True)"
   ]
  },
  {
   "cell_type": "code",
   "execution_count": null,
   "metadata": {},
   "outputs": [],
   "source": [
    "df_tx"
   ]
  },
  {
   "cell_type": "code",
   "execution_count": null,
   "metadata": {},
   "outputs": [],
   "source": [
    "price_filter = df_tx[df_tx['成交價格'] == 23538]\n",
    "price_filter"
   ]
  },
  {
   "cell_type": "code",
   "execution_count": null,
   "metadata": {},
   "outputs": [],
   "source": [
    "ohlc = df_tx.resample('1Min').agg({\n",
    "    '成交價格': [\n",
    "        ('開盤價', 'first'),\n",
    "        ('最高價', 'max'),\n",
    "        ('最低價', 'min'),\n",
    "        ('收盤價', 'last')\n",
    "    ]\n",
    "})"
   ]
  },
  {
   "cell_type": "code",
   "execution_count": null,
   "metadata": {},
   "outputs": [],
   "source": [
    "ohlc"
   ]
  },
  {
   "cell_type": "code",
   "execution_count": null,
   "metadata": {},
   "outputs": [],
   "source": [
    "t = ohlc.dropna()\n",
    "t"
   ]
  },
  {
   "cell_type": "code",
   "execution_count": null,
   "metadata": {},
   "outputs": [],
   "source": [
    "t.reset_index(inplace=True)"
   ]
  },
  {
   "cell_type": "markdown",
   "metadata": {},
   "source": []
  },
  {
   "cell_type": "code",
   "execution_count": null,
   "metadata": {},
   "outputs": [],
   "source": [
    "t['datetime'] = t['datetime'] + pd.Timedelta(minutes=1)\n",
    "t"
   ]
  },
  {
   "cell_type": "code",
   "execution_count": null,
   "metadata": {},
   "outputs": [],
   "source": []
  },
  {
   "cell_type": "code",
   "execution_count": null,
   "metadata": {},
   "outputs": [],
   "source": [
    "df_tx.head(653)"
   ]
  },
  {
   "cell_type": "code",
   "execution_count": null,
   "metadata": {},
   "outputs": [],
   "source": [
    "test = os.path.join(download_dir,f'TX_tick.csv')\n",
    "df_tx.to_csv(test,index=False,encoding='utf-8-sig')"
   ]
  },
  {
   "cell_type": "code",
   "execution_count": null,
   "metadata": {},
   "outputs": [],
   "source": [
    "tpd = df_tx.groupby(pd.Grouper(freq='1Min'))"
   ]
  },
  {
   "cell_type": "code",
   "execution_count": null,
   "metadata": {},
   "outputs": [],
   "source": [
    "tt = pd.DataFrame({\n",
    "            '開盤價': tpd['成交價格'].first(),\n",
    "            '最高價': tpd['成交價格'].max(),\n",
    "            '最低價': tpd['成交價格'].min(),\n",
    "            '收盤價': tpd['成交價格'].last()\n",
    "        })\n",
    "tt"
   ]
  },
  {
   "cell_type": "code",
   "execution_count": null,
   "metadata": {},
   "outputs": [],
   "source": [
    "ohlc = df_tx.resample('1Min').agg({\n",
    "    '成交價格': [\n",
    "        ('開盤價', 'first'),\n",
    "        ('最高價', 'max'),\n",
    "        ('最低價', 'min'),\n",
    "        ('收盤價', 'last')\n",
    "    ]\n",
    "})"
   ]
  },
  {
   "cell_type": "code",
   "execution_count": null,
   "metadata": {},
   "outputs": [],
   "source": [
    "ohlc"
   ]
  },
  {
   "cell_type": "code",
   "execution_count": null,
   "metadata": {},
   "outputs": [],
   "source": [
    "filename,headers = urlretrieve(download_path,save_dir)\n",
    "print(f\"檔案下載到:{filename}\")\n",
    "print(f\"檔案資訊:{headers}\")"
   ]
  },
  {
   "cell_type": "code",
   "execution_count": null,
   "metadata": {},
   "outputs": [],
   "source": []
  },
  {
   "cell_type": "code",
   "execution_count": null,
   "metadata": {},
   "outputs": [],
   "source": [
    "with zipfile.ZipFile(save_dir,'r') as zip_ref:\n",
    "    file_list = zip_ref.namelist()\n",
    "    rpt_file = next((f for f in file_list if f.lower().endswith('.rpt')),None)\n",
    "\n",
    "    if not rpt_file:\n",
    "        print('無檔案')\n",
    "\n",
    "    content = zip_ref.read(rpt_file).decode('big5')\n"
   ]
  },
  {
   "cell_type": "code",
   "execution_count": null,
   "metadata": {},
   "outputs": [],
   "source": [
    "print(content)"
   ]
  },
  {
   "cell_type": "code",
   "execution_count": null,
   "metadata": {},
   "outputs": [],
   "source": [
    "rows = [row.strip().split(',') for row in content.strip().split('\\n')]\n",
    "columns = ['日期', '商品代號', '到期月份', '時間', '價格', '數量']\n",
    "df = pd.DataFrame([row[:6] for row in rows[1:]], columns=columns)  # 只取前6個欄位\n",
    "df = df[df['商品代號'].str.strip() == 'TX']\n",
    "df"
   ]
  },
  {
   "cell_type": "code",
   "execution_count": null,
   "metadata": {},
   "outputs": [],
   "source": [
    "# 將價格轉換為浮點數\n",
    "df['價格'] = pd.to_numeric(df['價格'], errors='coerce')\n",
    "        \n",
    " # 組合日期和時間\n",
    "df['完整時間'] = pd.to_datetime(\n",
    "            df['日期'] + ' ' + df['時間'], \n",
    "            format='%Y%m%d %H%M%S'\n",
    "        )\n",
    "df"
   ]
  },
  {
   "cell_type": "code",
   "execution_count": null,
   "metadata": {},
   "outputs": [],
   "source": [
    "# 設定一分鐘的時間區間\n",
    "df['分鐘'] = df['完整時間'].dt.floor('1min')\n",
    "        \n",
    "# 根據分鐘區間計算 OHLC\n",
    "ohlc = df.groupby('分鐘').agg({\n",
    "            '價格': ['first', 'max', 'min', 'last']\n",
    "        }).reset_index()\n",
    "# 分離日期和時間\n",
    "ohlc['日期'] = ohlc['分鐘'].dt.strftime('%Y/%m/%d')\n",
    "ohlc['時間'] = ohlc['分鐘'].dt.strftime('%H%M')        \n",
    "ohlc"
   ]
  },
  {
   "cell_type": "code",
   "execution_count": null,
   "metadata": {},
   "outputs": [],
   "source": [
    "df"
   ]
  },
  {
   "cell_type": "code",
   "execution_count": null,
   "metadata": {},
   "outputs": [],
   "source": [
    "result = pd.DataFrame({\n",
    "            '日期': ohlc['日期'],\n",
    "            '時間': ohlc['時間'],\n",
    "            '開盤價': ohlc['價格']['first'],\n",
    "            '最高價': ohlc['價格']['max'],\n",
    "            '最低價': ohlc['價格']['min'],\n",
    "            '收盤價': ohlc['價格']['last']\n",
    "        })\n",
    "result"
   ]
  },
  {
   "cell_type": "code",
   "execution_count": null,
   "metadata": {},
   "outputs": [],
   "source": [
    "os.getcwd()"
   ]
  },
  {
   "cell_type": "code",
   "execution_count": null,
   "metadata": {},
   "outputs": [],
   "source": [
    "today = datetime.today()\n",
    "\n",
    "for daynum in range(1,61):\n",
    "    path = today.strftime('%Y_%m_%d')\n",
    "    name = 'Daily_'+path+'.zip'\n",
    "    print(name)\n",
    "    try:\n",
    "        urlretrieve('https://www.taifex.com.tw/file/taifex/Dailydownload/Dailydownload/'+name)\n",
    "    except IOError as IOE:\n",
    "        print('fault')\n",
    "    \n",
    "    yesterday = yesterday - timedelta(1)"
   ]
  }
 ],
 "metadata": {
  "kernelspec": {
   "display_name": "Python 3",
   "language": "python",
   "name": "python3"
  },
  "language_info": {
   "codemirror_mode": {
    "name": "ipython",
    "version": 3
   },
   "file_extension": ".py",
   "mimetype": "text/x-python",
   "name": "python",
   "nbconvert_exporter": "python",
   "pygments_lexer": "ipython3",
   "version": "3.11.7"
  }
 },
 "nbformat": 4,
 "nbformat_minor": 2
}
