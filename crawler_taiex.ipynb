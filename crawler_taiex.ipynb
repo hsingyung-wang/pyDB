{
 "cells": [
  {
   "cell_type": "code",
   "execution_count": null,
   "metadata": {},
   "outputs": [],
   "source": [
    "import urllib3\n",
    "import requests\n",
    "from bs4 import BeautifulSoup\n",
    "import pandas as pd\n",
    "from datetime import datetime\n",
    "from io import StringIO\n",
    "import json\n",
    "from headers import *\n",
    "import controllers\n",
    "\n",
    "import importlib\n",
    "import models\n",
    "importlib.reload(controllers)\n",
    "importlib.reload(models)\n",
    "controller = controllers.FuturesDataController()\n",
    "model = models.FuturesDataModel()\n",
    "\n"
   ]
  },
  {
   "cell_type": "code",
   "execution_count": null,
   "metadata": {},
   "outputs": [],
   "source": [
    "date = \"2024/09/11\"\n",
    "url = \"https://www.taifex.com.tw/cht/3/largeTraderFutQry\"\n",
    "params = {\n",
    "    'queryDate' : date,\n",
    "    'contractId' : 'TX' #指抓臺股期貨\n",
    "}"
   ]
  },
  {
   "cell_type": "code",
   "execution_count": null,
   "metadata": {},
   "outputs": [],
   "source": [
    "response = requests.post(url,data=params,headers=TAIFEX_DOWN)\n",
    "response.raise_for_status()\n"
   ]
  },
  {
   "cell_type": "code",
   "execution_count": null,
   "metadata": {},
   "outputs": [],
   "source": [
    "if \"日期\" not in response.text or \"契約名稱\" not in response.text:\n",
    "    print(\"響應中沒有找到預期的數據\")\n",
    "if \"查無資料\" in response.text:\n",
    "    print(\"查無資料\")"
   ]
  },
  {
   "cell_type": "code",
   "execution_count": null,
   "metadata": {},
   "outputs": [],
   "source": [
    "soup = BeautifulSoup(response.content,'html.parser')\n",
    "table = soup.table\n",
    "table"
   ]
  },
  {
   "cell_type": "code",
   "execution_count": null,
   "metadata": {},
   "outputs": [],
   "source": [
    "df = pd.read_html(StringIO(str(table)))\n",
    "df"
   ]
  },
  {
   "cell_type": "code",
   "execution_count": null,
   "metadata": {},
   "outputs": [],
   "source": [
    "df = df[0]\n",
    "df"
   ]
  },
  {
   "cell_type": "code",
   "execution_count": null,
   "metadata": {},
   "outputs": [],
   "source": [
    "df.columns =['契約名稱','到期月份（週別)','五大買方部位','五大買方百分比','十大買方部位','十大部位百分比','五大賣方部位','五大賣方百分比','十大賣方部位','十大賣方部位百分比','全市場未沖銷部位']\n",
    "df"
   ]
  },
  {
   "cell_type": "code",
   "execution_count": null,
   "metadata": {},
   "outputs": [],
   "source": [
    "import re\n",
    "def remove_parentheses(value):\n",
    "    if isinstance(value, str):\n",
    "        return re.sub(r'\\s*\\([^)]*\\)', '', value)\n",
    "    return value\n",
    "df = df.applymap(remove_parentheses)\n",
    "df"
   ]
  },
  {
   "cell_type": "code",
   "execution_count": null,
   "metadata": {},
   "outputs": [],
   "source": [
    "date = \"20250430\"\n",
    "url = \"https://www.twse.com.tw/rwd/zh/TAIEX/MI_5MINS_HIST\"\n",
    "params = {\n",
    "            'response':'json',\n",
    "            'date':date\n",
    "        }\n",
    "b = requests.post(url,data=params,headers=TWSE_DOWN)\n",
    "b.text"
   ]
  },
  {
   "cell_type": "code",
   "execution_count": null,
   "metadata": {},
   "outputs": [],
   "source": [
    "controller.update_twse_data(\"2024/08/30\")"
   ]
  },
  {
   "cell_type": "code",
   "execution_count": null,
   "metadata": {},
   "outputs": [],
   "source": [
    "controller.update_taifex_data(\"2024/09/11\")"
   ]
  },
  {
   "cell_type": "code",
   "execution_count": null,
   "metadata": {},
   "outputs": [],
   "source": [
    "df2 = controller.crawler_twse_data(\"2024/08/30\")\n",
    "df2"
   ]
  },
  {
   "cell_type": "code",
   "execution_count": null,
   "metadata": {},
   "outputs": [],
   "source": [
    "df3 = controller.crawler_twse_total_return(\"2024/08/30\")\n",
    "df3"
   ]
  },
  {
   "cell_type": "code",
   "execution_count": null,
   "metadata": {},
   "outputs": [],
   "source": [
    "merged_df = pd.merge(df2,df3,on='date',how='outer')\n",
    "merged_df"
   ]
  },
  {
   "cell_type": "code",
   "execution_count": null,
   "metadata": {},
   "outputs": [],
   "source": [
    "merged_df"
   ]
  },
  {
   "cell_type": "code",
   "execution_count": null,
   "metadata": {},
   "outputs": [],
   "source": [
    "df_dates = set(merged_df['date'])\n",
    "print(df_dates)"
   ]
  },
  {
   "cell_type": "code",
   "execution_count": null,
   "metadata": {},
   "outputs": [],
   "source": [
    "client = model.connect_mongo()"
   ]
  },
  {
   "cell_type": "code",
   "execution_count": null,
   "metadata": {},
   "outputs": [],
   "source": [
    "a = merged_df.to_dict('records')\n",
    "print(a)"
   ]
  },
  {
   "cell_type": "code",
   "execution_count": null,
   "metadata": {},
   "outputs": [],
   "source": [
    "a"
   ]
  },
  {
   "cell_type": "code",
   "execution_count": null,
   "metadata": {},
   "outputs": [],
   "source": [
    "db = client[\"findata\"]\n",
    "collection = db[\"twse_index\"]\n",
    "\n",
    "result = collection.insert_many(a)"
   ]
  },
  {
   "cell_type": "code",
   "execution_count": null,
   "metadata": {},
   "outputs": [],
   "source": [
    "controller.crawler_taifex_data(\"2024/09/09\")"
   ]
  },
  {
   "cell_type": "code",
   "execution_count": null,
   "metadata": {},
   "outputs": [],
   "source": [
    "url = \"https://www.taifex.com.tw/cht/3/futContractsDate\"\n",
    "        \n",
    "params = {\n",
    "       'queryType': '2',\n",
    "       'goDay': '',\n",
    "       'doQuery': '1',\n",
    "       'dateaddcnt': '',\n",
    "       'queryDate': \"2024/09/08\"\n",
    "   }\n",
    "response = requests.post(url,headers=TAIFEX_OI,data=params)\n",
    "response.text"
   ]
  },
  {
   "cell_type": "code",
   "execution_count": null,
   "metadata": {},
   "outputs": [],
   "source": [
    "soup = BeautifulSoup(response.content,'html.parser')\n",
    "table = soup.table\n",
    "df = pd.read_html(StringIO(str(table)))\n",
    "df = df[0]\n",
    "df"
   ]
  },
  {
   "cell_type": "code",
   "execution_count": null,
   "metadata": {},
   "outputs": [],
   "source": [
    "df.drop(columns = df.columns[0],axis=1,inplace=True)\n",
    "df"
   ]
  },
  {
   "cell_type": "code",
   "execution_count": null,
   "metadata": {},
   "outputs": [],
   "source": [
    "len(df)"
   ]
  },
  {
   "cell_type": "code",
   "execution_count": null,
   "metadata": {},
   "outputs": [],
   "source": [
    "date = \"2024/09/09\"\n",
    "data = {\n",
    "            \"date\":datetime.strptime(date,\"%Y/%m/%d\"),\n",
    "            \"期貨契約\":[]\n",
    "        }\n",
    "for _, row in df.iterrows():\n",
    "    contract = {\n",
    "        \"商品名稱\": row['商品名稱'],\n",
    "        \"身份別\": row['身份別'],\n",
    "        \"多方交易口數\": int(row['多方交易口數']),\n",
    "        \"多方交易金額\": int(row['多方交易金額']),\n",
    "        \"空方交易口數\": int(row['空方交易口數']),\n",
    "        \"空方交易金額\": int(row['空方交易金額']),\n",
    "        \"交易淨口數\": int(row['交易淨口數']),\n",
    "        \"交易淨金額\": int(row['交易淨金額']),\n",
    "        \"多方未平倉口數\": int(row['多方未平倉口數']),\n",
    "        \"多方未平倉金額\": int(row['多方未平倉金額']),\n",
    "        \"空方未平倉口數\": int(row['空方未平倉口數']),\n",
    "        \"空方未平倉金額\": int(row['空方未平倉金額']),\n",
    "        \"未平倉淨口數\": int(row['未平倉淨口數']),\n",
    "        \"未平倉淨金額\": int(row['未平倉淨金額'])\n",
    "    }\n",
    "    data[\"期貨契約\"].append(contract)\n",
    "    "
   ]
  },
  {
   "cell_type": "code",
   "execution_count": null,
   "metadata": {},
   "outputs": [],
   "source": [
    "print(data)"
   ]
  },
  {
   "cell_type": "code",
   "execution_count": null,
   "metadata": {},
   "outputs": [],
   "source": [
    "client = model.connect_mongo()"
   ]
  },
  {
   "cell_type": "code",
   "execution_count": null,
   "metadata": {},
   "outputs": [],
   "source": [
    "db = client[\"findata\"]\n",
    "collection = db[\"txf_oi\"]\n"
   ]
  },
  {
   "cell_type": "code",
   "execution_count": null,
   "metadata": {},
   "outputs": [],
   "source": [
    "existing_data = collection.find_one({'date':data['date']})"
   ]
  },
  {
   "cell_type": "code",
   "execution_count": null,
   "metadata": {},
   "outputs": [],
   "source": [
    "print(existing_data)\n",
    "print(data)"
   ]
  },
  {
   "cell_type": "code",
   "execution_count": null,
   "metadata": {},
   "outputs": [],
   "source": [
    "result = collection.insert_one(data)"
   ]
  },
  {
   "cell_type": "code",
   "execution_count": null,
   "metadata": {},
   "outputs": [],
   "source": [
    "df = controller.crawler_twse_total_return(\"20240909\")\n",
    "df"
   ]
  },
  {
   "cell_type": "code",
   "execution_count": null,
   "metadata": {},
   "outputs": [],
   "source": [
    "df2 = controller.crawler_twse_data(\"20240909\")\n",
    "df2"
   ]
  },
  {
   "cell_type": "code",
   "execution_count": null,
   "metadata": {},
   "outputs": [],
   "source": [
    "params ={\n",
    "    'response':'json',\n",
    "    'date':\"20240810\"\n",
    "}\n",
    "rsp = requests.get(\"https://www.twse.com.tw/rwd/zh/TAIEX/MFI94U\",data=params,headers=TWSE_DOWN)"
   ]
  },
  {
   "cell_type": "code",
   "execution_count": null,
   "metadata": {},
   "outputs": [],
   "source": [
    "d2 = json.loads(rsp.text)\n",
    "d2"
   ]
  },
  {
   "cell_type": "code",
   "execution_count": null,
   "metadata": {},
   "outputs": [],
   "source": [
    "df2 = pd.DataFrame(d2['data'],columns=['date','tri_close'])\n",
    "df2"
   ]
  },
  {
   "cell_type": "code",
   "execution_count": null,
   "metadata": {},
   "outputs": [],
   "source": [
    "df2.iloc[:,1:] = df2.iloc[:,1:].apply(lambda x: x.str.replace(',','').astype(float), axis=1)\n",
    "df2"
   ]
  },
  {
   "cell_type": "code",
   "execution_count": null,
   "metadata": {},
   "outputs": [],
   "source": [
    "df2[['year','month','day']] = df2['date'].str.split('/',expand=True)\n",
    "df2['year'] = df2['year'].astype(int)+1911\n",
    "df2['date'] = df2['year'].astype(str)+'-'+df2['month'].str.zfill(2) + \"-\" + df2['day'].str.zfill(2)\n",
    "df2['date'] = pd.to_datetime(df2['date'])\n",
    "df2"
   ]
  },
  {
   "cell_type": "code",
   "execution_count": null,
   "metadata": {},
   "outputs": [],
   "source": [
    "#tdf = controller.crawler_twse_data(\"20240801\")\n",
    "xdf = controller.crawler_twse_data(\"20240801\")"
   ]
  },
  {
   "cell_type": "code",
   "execution_count": null,
   "metadata": {},
   "outputs": [],
   "source": [
    "xdf"
   ]
  },
  {
   "cell_type": "code",
   "execution_count": null,
   "metadata": {},
   "outputs": [],
   "source": [
    "date = \"20240905\"\n",
    "url = \"https://www.twse.com.tw/indicesReport/MI_5MINS_HIST\"\n",
    "params = {\n",
    "    'response':'json',\n",
    "    'date':f'{date}'\n",
    "}\n",
    "\n",
    "response = requests.get(url,data=params,headers=TWSE_DOWN)\n"
   ]
  },
  {
   "cell_type": "code",
   "execution_count": null,
   "metadata": {},
   "outputs": [],
   "source": [
    "response.text"
   ]
  },
  {
   "cell_type": "code",
   "execution_count": null,
   "metadata": {},
   "outputs": [],
   "source": [
    "data = json.loads(response.text)\n",
    "data"
   ]
  },
  {
   "cell_type": "code",
   "execution_count": null,
   "metadata": {},
   "outputs": [],
   "source": [
    "df = pd.DataFrame(data['data'],columns=['date','open','high','low','close'])\n",
    "df"
   ]
  },
  {
   "cell_type": "code",
   "execution_count": null,
   "metadata": {},
   "outputs": [],
   "source": [
    "df.iloc[:, 1:] = df.iloc[:, 1:].apply(lambda x: x.str.replace(',', '').astype(float), axis=1)"
   ]
  },
  {
   "cell_type": "code",
   "execution_count": null,
   "metadata": {},
   "outputs": [],
   "source": [
    "df"
   ]
  },
  {
   "cell_type": "code",
   "execution_count": null,
   "metadata": {},
   "outputs": [],
   "source": [
    "df[['year', 'month', 'day']] = df['date'].str.split('/', expand=True)\n",
    "df['year'] = df['year'].astype(int) + 1911\n",
    "df['date'] = df['year'].astype(str) + '-' + df['month'].str.zfill(2) + '-' + df['day'].str.zfill(2)\n",
    "df"
   ]
  },
  {
   "cell_type": "code",
   "execution_count": null,
   "metadata": {},
   "outputs": [],
   "source": [
    "df[['year','Month', 'Day']] = df['Date'].str.split(\"/\",expand=True,)\n"
   ]
  },
  {
   "cell_type": "code",
   "execution_count": null,
   "metadata": {},
   "outputs": [],
   "source": [
    "df"
   ]
  },
  {
   "cell_type": "code",
   "execution_count": null,
   "metadata": {},
   "outputs": [],
   "source": [
    "df['Year'] = df['Year'].astype(int) + 1911\n"
   ]
  },
  {
   "cell_type": "code",
   "execution_count": null,
   "metadata": {},
   "outputs": [],
   "source": [
    "df"
   ]
  },
  {
   "cell_type": "code",
   "execution_count": null,
   "metadata": {},
   "outputs": [],
   "source": [
    "df['Date']  = (pd.to_datetime(df['Year'].astype(str) + '/' +\n",
    "df['Month'].astype(str) + '/' +\n",
    "df['Day'].astype(str)))"
   ]
  },
  {
   "cell_type": "code",
   "execution_count": null,
   "metadata": {},
   "outputs": [],
   "source": [
    "df"
   ]
  },
  {
   "cell_type": "code",
   "execution_count": null,
   "metadata": {},
   "outputs": [],
   "source": [
    "df = df.iloc[:, :-3]\n",
    "\n",
    "\n",
    "\n",
    "\n",
    "\n"
   ]
  },
  {
   "cell_type": "code",
   "execution_count": null,
   "metadata": {},
   "outputs": [],
   "source": [
    "df"
   ]
  },
  {
   "cell_type": "code",
   "execution_count": null,
   "metadata": {},
   "outputs": [],
   "source": []
  }
 ],
 "metadata": {
  "kernelspec": {
   "display_name": "Python 3",
   "language": "python",
   "name": "python3"
  },
  "language_info": {
   "codemirror_mode": {
    "name": "ipython",
    "version": 3
   },
   "file_extension": ".py",
   "mimetype": "text/x-python",
   "name": "python",
   "nbconvert_exporter": "python",
   "pygments_lexer": "ipython3",
   "version": "3.11.7"
  }
 },
 "nbformat": 4,
 "nbformat_minor": 2
}
