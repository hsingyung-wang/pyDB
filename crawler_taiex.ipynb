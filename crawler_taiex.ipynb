{
 "cells": [
  {
   "cell_type": "code",
   "execution_count": 1,
   "metadata": {},
   "outputs": [],
   "source": [
    "import urllib3\n",
    "import requests\n",
    "from bs4 import BeautifulSoup\n",
    "import pandas as pd\n",
    "from datetime import datetime\n",
    "from io import StringIO\n",
    "import json\n",
    "from headers import *\n",
    "import controllers\n",
    "\n",
    "import importlib\n",
    "import models\n",
    "importlib.reload(controllers)\n",
    "importlib.reload(models)\n",
    "controller = controllers.FuturesDataController()\n",
    "model = models.FuturesDataModel()\n",
    "\n"
   ]
  },
  {
   "cell_type": "code",
   "execution_count": 2,
   "metadata": {},
   "outputs": [],
   "source": [
    "date = \"2024/09/11\"\n",
    "url = \"https://www.taifex.com.tw/cht/3/largeTraderFutQry\"\n",
    "params = {\n",
    "    'queryDate' : date,\n",
    "    'contractId' : 'TX' #指抓臺股期貨\n",
    "}"
   ]
  },
  {
   "cell_type": "code",
   "execution_count": 3,
   "metadata": {},
   "outputs": [],
   "source": [
    "response = requests.post(url,data=params,headers=TAIFEX_DOWN)\n",
    "response.raise_for_status()\n"
   ]
  },
  {
   "cell_type": "code",
   "execution_count": 4,
   "metadata": {},
   "outputs": [],
   "source": [
    "if \"日期\" not in response.text or \"契約名稱\" not in response.text:\n",
    "    print(\"響應中沒有找到預期的數據\")\n",
    "if \"查無資料\" in response.text:\n",
    "    print(\"查無資料\")"
   ]
  },
  {
   "cell_type": "code",
   "execution_count": 5,
   "metadata": {},
   "outputs": [
    {
     "data": {
      "text/plain": [
       "<table border=\"0\" cellpadding=\"0\" cellspacing=\"0\" class=\"table_f spec-sticky-2 w-730\" width=\"100%\">\n",
       "<thead>\n",
       "<tr bgcolor=\"#6699CC\" class=\"12whit\">\n",
       "<th class=\"th-first-sticky\" id=\"name_a\" rowspan=\"3\"><div align=\"center\">契約名稱</div></th>\n",
       "<th class=\"th-second-sticky\" id=\"expiry_a\" rowspan=\"3\" width=\"60\"><div align=\"center\">\n",
       "\t\t\t\t\t\t\t\t\t\t\t\t\t\t到期<br/>月份<br/>(週別)\n",
       "\t\t\t\t\t\t\t\t\t\t\t\t\t</div></th>\n",
       "<th colspan=\"4\" id=\"buyer_a\"><div align=\"center\">買方</div></th>\n",
       "<th colspan=\"4\" id=\"seller_a\"><div align=\"center\">賣方</div></th>\n",
       "<th id=\"position_a\" rowspan=\"3\"><div align=\"center\">全市場未沖銷部位數</div></th>\n",
       "</tr>\n",
       "<tr bgcolor=\"#FFFFFF\">\n",
       "<th bgcolor=\"#6699CC\" colspan=\"2\" headers=\"buyer_a\" id=\"buyer_a_01\" nowrap=\"\">\n",
       "<div align=\"center\">\n",
       "\t\t\t\t\t\t\t\t\t\t\t\t\t\t前五大交易人合計<br/> (特定法人合計)\n",
       "\t\t\t\t\t\t\t\t\t\t\t\t\t</div>\n",
       "</th>\n",
       "<th bgcolor=\"#6699CC\" colspan=\"2\" headers=\"buyer_a\" id=\"buyer_a_02\" nowrap=\"\">\n",
       "<div align=\"center\">\n",
       "\t\t\t\t\t\t\t\t\t\t\t\t\t\t前十大交易人合計<br/> (特定法人合計)\n",
       "\t\t\t\t\t\t\t\t\t\t\t\t\t</div>\n",
       "</th>\n",
       "<th bgcolor=\"#6699CC\" colspan=\"2\" headers=\"seller_a\" id=\"seller_a_01\" nowrap=\"\">\n",
       "<div align=\"center\">\n",
       "\t\t\t\t\t\t\t\t\t\t\t\t\t\t前五大交易人合計<br/> (特定法人合計)\n",
       "\t\t\t\t\t\t\t\t\t\t\t\t\t</div>\n",
       "</th>\n",
       "<th bgcolor=\"#6699CC\" colspan=\"2\" headers=\"seller_a\" id=\"seller_a_02\" nowrap=\"\">\n",
       "<div align=\"center\">\n",
       "\t\t\t\t\t\t\t\t\t\t\t\t\t\t前十大交易人合計<br/> (特定法人合計)\n",
       "\t\t\t\t\t\t\t\t\t\t\t\t\t</div>\n",
       "</th>\n",
       "</tr>\n",
       "<tr bgcolor=\"#FFFFFF\">\n",
       "<th bgcolor=\"#6699CC\" headers=\"buyer_a buyer_a_01\" id=\"buyer_a_01_01\"><div align=\"center\">部位數</div></th>\n",
       "<th bgcolor=\"#6699CC\" headers=\"buyer_a buyer_a_01\" id=\"buyer_a_01_02\" width=\"60\"><div align=\"center\">百分比</div></th>\n",
       "<th bgcolor=\"#6699CC\" headers=\"buyer_a buyer_a_02\" id=\"buyer_a_02_01\"><div align=\"center\">部位數</div></th>\n",
       "<th bgcolor=\"#6699CC\" headers=\"buyer_a buyer_a_02\" id=\"buyer_a_02_02\" width=\"60\"><div align=\"center\">百分比</div></th>\n",
       "<th bgcolor=\"#6699CC\" headers=\"seller_a seller_a_01\" id=\"seller_a_01_01\"><div align=\"center\">部位數</div></th>\n",
       "<th bgcolor=\"#6699CC\" headers=\"seller_a seller_a_01\" id=\"seller_a_01_02\" width=\"60\"><div align=\"center\">百分比</div></th>\n",
       "<th bgcolor=\"#6699CC\" headers=\"seller_a seller_a_02\" id=\"seller_a_02_01\"><div align=\"center\">部位數</div></th>\n",
       "<th bgcolor=\"#6699CC\" headers=\"seller_a seller_a_02\" id=\"seller_a_02_02\" width=\"60\"><div align=\"center\">百分比</div></th>\n",
       "</tr>\n",
       "</thead>\n",
       "<tr>\n",
       "<td bgcolor=\"ivory\" class=\"12bk sheet-sticky serial-1\" headers=\"name_a\" rowspan=\"3\">\n",
       "<div align=\"center\">\n",
       "\t\t\t\t\t\t\t\t\t\t\t\t\t\t\t\t\t\t臺股期貨(TX+MTX/4+TMF/20)</div>\n",
       "</td>\n",
       "<td align=\"center\" bgcolor=\"ivory\" class=\"11b sheet-sticky serial-2\" headers=\"expiry_a\">\n",
       "\t\t\t\t\t\t\t\t\t\t\t\t\t週契約\n",
       "\t\t\t\t\t\t\t\t\t\t\t\t</td>\n",
       "<td bgcolor=\"ivory\" class=\"11b\" headers=\"buyer_a buyer_a_01 buyer_a_01_01\">\n",
       "<div align=\"center\">\n",
       "\t\t\t\t\t\t\t\t\t\t\t\t\t\t\t\t6<br/>\n",
       "                                      \t\t\t\t(0)\n",
       "\t\t\t\t\t\t\t\t\t\t\t\t</div>\n",
       "</td>\n",
       "<td bgcolor=\"ivory\" class=\"11b\" headers=\"buyer_a buyer_a_01 buyer_a_01_02\">\n",
       "<div align=\"center\">\n",
       "\t\t\t\t\t\t\t\t\t\t\t\t\t\t\t\t100%<br/>\n",
       "\t\t\t\t\t\t\t\t\t\t\t\t\t(0%)\n",
       "\t\t\t\t\t\t\t\t\t\t\t\t</div>\n",
       "</td>\n",
       "<td bgcolor=\"ivory\" class=\"11b\" headers=\"buyer_a buyer_a_02 buyer_a_02_01\">\n",
       "<div align=\"center\">\n",
       "\t\t\t\t\t\t\t\t\t\t\t\t\t\t\t\t6<br/>\n",
       "\t\t\t\t\t\t\t\t\t\t\t\t\t(0)\n",
       "\t\t\t\t\t\t\t\t\t\t\t\t</div>\n",
       "</td>\n",
       "<td bgcolor=\"ivory\" class=\"11b\" headers=\"buyer_a buyer_a_02 buyer_a_02_02\">\n",
       "<div align=\"center\">\n",
       "\t\t\t\t\t\t\t\t\t\t\t\t\t\t\t\t100%<br/>\n",
       "\t\t\t\t\t\t\t\t\t\t\t\t\t(0%)\n",
       "\t\t\t\t\t\t\t\t\t\t\t\t</div>\n",
       "</td>\n",
       "<td bgcolor=\"ivory\" class=\"11b\" headers=\"seller_a seller_a_01 seller_a_01_01\">\n",
       "<div align=\"center\">\n",
       "\t\t\t\t\t\t\t\t\t\t\t\t\t\t\t\t6<br/>\n",
       "\t\t\t\t\t\t\t\t\t\t\t\t\t(0)\n",
       "\t\t\t\t\t\t\t\t\t\t\t\t</div>\n",
       "</td>\n",
       "<td bgcolor=\"ivory\" class=\"11b\" headers=\"seller_a seller_a_01 seller_a_01_02\">\n",
       "<div align=\"center\">\n",
       "\t\t\t\t\t\t\t\t\t\t\t\t\t\t\t\t100%<br/>\n",
       "\t\t\t\t\t\t\t\t\t\t\t\t\t(0%)\n",
       "\t\t\t\t\t\t\t\t\t\t\t\t</div>\n",
       "</td>\n",
       "<td bgcolor=\"ivory\" class=\"11b\" headers=\"seller_a seller_a_02 seller_a_02_01\">\n",
       "<div align=\"center\">\n",
       "\t\t\t\t\t\t\t\t\t\t\t\t\t\t\t\t6<br/>\n",
       "\t\t\t\t\t\t\t\t\t\t\t\t\t(0)\n",
       "\t\t\t\t\t\t\t\t\t\t\t\t</div>\n",
       "</td>\n",
       "<td bgcolor=\"ivory\" class=\"11b\" headers=\"seller_a seller_a_02 seller_a_02_02\">\n",
       "<div align=\"center\">\n",
       "\t\t\t\t\t\t\t\t\t\t\t\t\t\t\t\t100%<br/>\n",
       "\t\t\t\t\t\t\t\t\t\t\t\t\t(0%)\n",
       "\t\t\t\t\t\t\t\t\t\t\t\t</div>\n",
       "</td>\n",
       "<td bgcolor=\"ivory\" class=\"11b\" headers=\"position_a\">\n",
       "<div align=\"center\">\n",
       "\t\t\t\t\t\t\t\t\t\t\t\t\t\t\t\t6</div>\n",
       "</td>\n",
       "</tr>\n",
       "<tr>\n",
       "<td align=\"center\" bgcolor=\"ivory\" class=\"11b sheet-sticky serial-2\" headers=\"expiry_a\">2024<br/>\n",
       "\t\t\t\t\t\t\t\t\t\t\t\t\t\t\t\t\t09</td>\n",
       "<td bgcolor=\"ivory\" class=\"11b\" headers=\"buyer_a buyer_a_01 buyer_a_01_01\">\n",
       "<div align=\"center\">\n",
       "\t\t\t\t\t\t\t\t\t\t\t\t\t\t\t\t34,452<br/>\n",
       "                                      \t\t\t\t(29,475)\n",
       "\t\t\t\t\t\t\t\t\t\t\t\t</div>\n",
       "</td>\n",
       "<td bgcolor=\"ivory\" class=\"11b\" headers=\"buyer_a buyer_a_01 buyer_a_01_02\">\n",
       "<div align=\"center\">\n",
       "\t\t\t\t\t\t\t\t\t\t\t\t\t\t\t\t43.6%<br/>\n",
       "\t\t\t\t\t\t\t\t\t\t\t\t\t(37.3%)\n",
       "\t\t\t\t\t\t\t\t\t\t\t\t</div>\n",
       "</td>\n",
       "<td bgcolor=\"ivory\" class=\"11b\" headers=\"buyer_a buyer_a_02 buyer_a_02_01\">\n",
       "<div align=\"center\">\n",
       "\t\t\t\t\t\t\t\t\t\t\t\t\t\t\t\t45,299<br/>\n",
       "\t\t\t\t\t\t\t\t\t\t\t\t\t(40,323)\n",
       "\t\t\t\t\t\t\t\t\t\t\t\t</div>\n",
       "</td>\n",
       "<td bgcolor=\"ivory\" class=\"11b\" headers=\"buyer_a buyer_a_02 buyer_a_02_02\">\n",
       "<div align=\"center\">\n",
       "\t\t\t\t\t\t\t\t\t\t\t\t\t\t\t\t57.3%<br/>\n",
       "\t\t\t\t\t\t\t\t\t\t\t\t\t(51%)\n",
       "\t\t\t\t\t\t\t\t\t\t\t\t</div>\n",
       "</td>\n",
       "<td bgcolor=\"ivory\" class=\"11b\" headers=\"seller_a seller_a_01 seller_a_01_01\">\n",
       "<div align=\"center\">\n",
       "\t\t\t\t\t\t\t\t\t\t\t\t\t\t\t\t30,992<br/>\n",
       "\t\t\t\t\t\t\t\t\t\t\t\t\t(30,992)\n",
       "\t\t\t\t\t\t\t\t\t\t\t\t</div>\n",
       "</td>\n",
       "<td bgcolor=\"ivory\" class=\"11b\" headers=\"seller_a seller_a_01 seller_a_01_02\">\n",
       "<div align=\"center\">\n",
       "\t\t\t\t\t\t\t\t\t\t\t\t\t\t\t\t39.2%<br/>\n",
       "\t\t\t\t\t\t\t\t\t\t\t\t\t(39.2%)\n",
       "\t\t\t\t\t\t\t\t\t\t\t\t</div>\n",
       "</td>\n",
       "<td bgcolor=\"ivory\" class=\"11b\" headers=\"seller_a seller_a_02 seller_a_02_01\">\n",
       "<div align=\"center\">\n",
       "\t\t\t\t\t\t\t\t\t\t\t\t\t\t\t\t41,869<br/>\n",
       "\t\t\t\t\t\t\t\t\t\t\t\t\t(40,142)\n",
       "\t\t\t\t\t\t\t\t\t\t\t\t</div>\n",
       "</td>\n",
       "<td bgcolor=\"ivory\" class=\"11b\" headers=\"seller_a seller_a_02 seller_a_02_02\">\n",
       "<div align=\"center\">\n",
       "\t\t\t\t\t\t\t\t\t\t\t\t\t\t\t\t53%<br/>\n",
       "\t\t\t\t\t\t\t\t\t\t\t\t\t(50.8%)\n",
       "\t\t\t\t\t\t\t\t\t\t\t\t</div>\n",
       "</td>\n",
       "<td bgcolor=\"ivory\" class=\"11b\" headers=\"position_a\">\n",
       "<div align=\"center\">\n",
       "\t\t\t\t\t\t\t\t\t\t\t\t\t\t\t\t79,023</div>\n",
       "</td>\n",
       "</tr>\n",
       "<tr>\n",
       "<td align=\"center\" bgcolor=\"ivory\" class=\"11b sheet-sticky serial-2\" headers=\"expiry_a\">所有<br/>契約\n",
       "\t\t\t\t\t\t\t\t\t\t\t\t\t\t\t\t</td>\n",
       "<td bgcolor=\"ivory\" class=\"11b\" headers=\"buyer_a buyer_a_01 buyer_a_01_01\">\n",
       "<div align=\"center\">\n",
       "\t\t\t\t\t\t\t\t\t\t\t\t\t\t\t\t34,868<br/>\n",
       "                                      \t\t\t\t(29,848)\n",
       "\t\t\t\t\t\t\t\t\t\t\t\t</div>\n",
       "</td>\n",
       "<td bgcolor=\"ivory\" class=\"11b\" headers=\"buyer_a buyer_a_01 buyer_a_01_02\">\n",
       "<div align=\"center\">\n",
       "\t\t\t\t\t\t\t\t\t\t\t\t\t\t\t\t39.3%<br/>\n",
       "\t\t\t\t\t\t\t\t\t\t\t\t\t(33.6%)\n",
       "\t\t\t\t\t\t\t\t\t\t\t\t</div>\n",
       "</td>\n",
       "<td bgcolor=\"ivory\" class=\"11b\" headers=\"buyer_a buyer_a_02 buyer_a_02_01\">\n",
       "<div align=\"center\">\n",
       "\t\t\t\t\t\t\t\t\t\t\t\t\t\t\t\t46,514<br/>\n",
       "\t\t\t\t\t\t\t\t\t\t\t\t\t(41,494)\n",
       "\t\t\t\t\t\t\t\t\t\t\t\t</div>\n",
       "</td>\n",
       "<td bgcolor=\"ivory\" class=\"11b\" headers=\"buyer_a buyer_a_02 buyer_a_02_02\">\n",
       "<div align=\"center\">\n",
       "\t\t\t\t\t\t\t\t\t\t\t\t\t\t\t\t52.4%<br/>\n",
       "\t\t\t\t\t\t\t\t\t\t\t\t\t(46.7%)\n",
       "\t\t\t\t\t\t\t\t\t\t\t\t</div>\n",
       "</td>\n",
       "<td bgcolor=\"ivory\" class=\"11b\" headers=\"seller_a seller_a_01 seller_a_01_01\">\n",
       "<div align=\"center\">\n",
       "\t\t\t\t\t\t\t\t\t\t\t\t\t\t\t\t33,288<br/>\n",
       "\t\t\t\t\t\t\t\t\t\t\t\t\t(33,288)\n",
       "\t\t\t\t\t\t\t\t\t\t\t\t</div>\n",
       "</td>\n",
       "<td bgcolor=\"ivory\" class=\"11b\" headers=\"seller_a seller_a_01 seller_a_01_02\">\n",
       "<div align=\"center\">\n",
       "\t\t\t\t\t\t\t\t\t\t\t\t\t\t\t\t37.5%<br/>\n",
       "\t\t\t\t\t\t\t\t\t\t\t\t\t(37.5%)\n",
       "\t\t\t\t\t\t\t\t\t\t\t\t</div>\n",
       "</td>\n",
       "<td bgcolor=\"ivory\" class=\"11b\" headers=\"seller_a seller_a_02 seller_a_02_01\">\n",
       "<div align=\"center\">\n",
       "\t\t\t\t\t\t\t\t\t\t\t\t\t\t\t\t45,300<br/>\n",
       "\t\t\t\t\t\t\t\t\t\t\t\t\t(43,183)\n",
       "\t\t\t\t\t\t\t\t\t\t\t\t</div>\n",
       "</td>\n",
       "<td bgcolor=\"ivory\" class=\"11b\" headers=\"seller_a seller_a_02 seller_a_02_02\">\n",
       "<div align=\"center\">\n",
       "\t\t\t\t\t\t\t\t\t\t\t\t\t\t\t\t51%<br/>\n",
       "\t\t\t\t\t\t\t\t\t\t\t\t\t(48.7%)\n",
       "\t\t\t\t\t\t\t\t\t\t\t\t</div>\n",
       "</td>\n",
       "<td bgcolor=\"ivory\" class=\"11b\" headers=\"position_a\">\n",
       "<div align=\"center\">\n",
       "\t\t\t\t\t\t\t\t\t\t\t\t\t\t\t\t88,759</div>\n",
       "</td>\n",
       "</tr>\n",
       "</table>"
      ]
     },
     "execution_count": 5,
     "metadata": {},
     "output_type": "execute_result"
    }
   ],
   "source": [
    "soup = BeautifulSoup(response.content,'html.parser')\n",
    "table = soup.table\n",
    "table"
   ]
  },
  {
   "cell_type": "code",
   "execution_count": 6,
   "metadata": {},
   "outputs": [
    {
     "data": {
      "text/plain": [
       "[                    契約名稱 到期 月份 (週別)                 買方                  \\\n",
       "                     契約名稱 到期 月份 (週別) 前五大交易人合計  (特定法人合計)                   \n",
       "                     契約名稱 到期 月份 (週別)                部位數             百分比   \n",
       " 0  臺股期貨(TX+MTX/4+TMF/20)        週契約             6  (0)      100%  (0%)   \n",
       " 1  臺股期貨(TX+MTX/4+TMF/20)   2024  09   34,452  (29,475)  43.6%  (37.3%)   \n",
       " 2  臺股期貨(TX+MTX/4+TMF/20)      所有 契約   34,868  (29,848)  39.3%  (33.6%)   \n",
       " \n",
       "                                                      賣方                  \\\n",
       "   前十大交易人合計  (特定法人合計)                 前五大交易人合計  (特定法人合計)                   \n",
       "                  部位數             百分比                部位數             百分比   \n",
       " 0             6  (0)      100%  (0%)             6  (0)      100%  (0%)   \n",
       " 1   45,299  (40,323)    57.3%  (51%)   30,992  (30,992)  39.2%  (39.2%)   \n",
       " 2   46,514  (41,494)  52.4%  (46.7%)   33,288  (33,288)  37.5%  (37.5%)   \n",
       " \n",
       "                                    全市場未沖銷部位數  \n",
       "   前十大交易人合計  (特定法人合計)               全市場未沖銷部位數  \n",
       "                  部位數           百分比 全市場未沖銷部位數  \n",
       " 0             6  (0)    100%  (0%)         6  \n",
       " 1   41,869  (40,142)  53%  (50.8%)     79023  \n",
       " 2   45,300  (43,183)  51%  (48.7%)     88759  ]"
      ]
     },
     "execution_count": 6,
     "metadata": {},
     "output_type": "execute_result"
    }
   ],
   "source": [
    "df = pd.read_html(StringIO(str(table)))\n",
    "df"
   ]
  },
  {
   "cell_type": "code",
   "execution_count": 7,
   "metadata": {},
   "outputs": [
    {
     "data": {
      "text/html": [
       "<div>\n",
       "<style scoped>\n",
       "    .dataframe tbody tr th:only-of-type {\n",
       "        vertical-align: middle;\n",
       "    }\n",
       "\n",
       "    .dataframe tbody tr th {\n",
       "        vertical-align: top;\n",
       "    }\n",
       "\n",
       "    .dataframe thead tr th {\n",
       "        text-align: left;\n",
       "    }\n",
       "</style>\n",
       "<table border=\"1\" class=\"dataframe\">\n",
       "  <thead>\n",
       "    <tr>\n",
       "      <th></th>\n",
       "      <th>契約名稱</th>\n",
       "      <th>到期 月份 (週別)</th>\n",
       "      <th colspan=\"4\" halign=\"left\">買方</th>\n",
       "      <th colspan=\"4\" halign=\"left\">賣方</th>\n",
       "      <th>全市場未沖銷部位數</th>\n",
       "    </tr>\n",
       "    <tr>\n",
       "      <th></th>\n",
       "      <th>契約名稱</th>\n",
       "      <th>到期 月份 (週別)</th>\n",
       "      <th colspan=\"2\" halign=\"left\">前五大交易人合計  (特定法人合計)</th>\n",
       "      <th colspan=\"2\" halign=\"left\">前十大交易人合計  (特定法人合計)</th>\n",
       "      <th colspan=\"2\" halign=\"left\">前五大交易人合計  (特定法人合計)</th>\n",
       "      <th colspan=\"2\" halign=\"left\">前十大交易人合計  (特定法人合計)</th>\n",
       "      <th>全市場未沖銷部位數</th>\n",
       "    </tr>\n",
       "    <tr>\n",
       "      <th></th>\n",
       "      <th>契約名稱</th>\n",
       "      <th>到期 月份 (週別)</th>\n",
       "      <th>部位數</th>\n",
       "      <th>百分比</th>\n",
       "      <th>部位數</th>\n",
       "      <th>百分比</th>\n",
       "      <th>部位數</th>\n",
       "      <th>百分比</th>\n",
       "      <th>部位數</th>\n",
       "      <th>百分比</th>\n",
       "      <th>全市場未沖銷部位數</th>\n",
       "    </tr>\n",
       "  </thead>\n",
       "  <tbody>\n",
       "    <tr>\n",
       "      <th>0</th>\n",
       "      <td>臺股期貨(TX+MTX/4+TMF/20)</td>\n",
       "      <td>週契約</td>\n",
       "      <td>6  (0)</td>\n",
       "      <td>100%  (0%)</td>\n",
       "      <td>6  (0)</td>\n",
       "      <td>100%  (0%)</td>\n",
       "      <td>6  (0)</td>\n",
       "      <td>100%  (0%)</td>\n",
       "      <td>6  (0)</td>\n",
       "      <td>100%  (0%)</td>\n",
       "      <td>6</td>\n",
       "    </tr>\n",
       "    <tr>\n",
       "      <th>1</th>\n",
       "      <td>臺股期貨(TX+MTX/4+TMF/20)</td>\n",
       "      <td>2024  09</td>\n",
       "      <td>34,452  (29,475)</td>\n",
       "      <td>43.6%  (37.3%)</td>\n",
       "      <td>45,299  (40,323)</td>\n",
       "      <td>57.3%  (51%)</td>\n",
       "      <td>30,992  (30,992)</td>\n",
       "      <td>39.2%  (39.2%)</td>\n",
       "      <td>41,869  (40,142)</td>\n",
       "      <td>53%  (50.8%)</td>\n",
       "      <td>79023</td>\n",
       "    </tr>\n",
       "    <tr>\n",
       "      <th>2</th>\n",
       "      <td>臺股期貨(TX+MTX/4+TMF/20)</td>\n",
       "      <td>所有 契約</td>\n",
       "      <td>34,868  (29,848)</td>\n",
       "      <td>39.3%  (33.6%)</td>\n",
       "      <td>46,514  (41,494)</td>\n",
       "      <td>52.4%  (46.7%)</td>\n",
       "      <td>33,288  (33,288)</td>\n",
       "      <td>37.5%  (37.5%)</td>\n",
       "      <td>45,300  (43,183)</td>\n",
       "      <td>51%  (48.7%)</td>\n",
       "      <td>88759</td>\n",
       "    </tr>\n",
       "  </tbody>\n",
       "</table>\n",
       "</div>"
      ],
      "text/plain": [
       "                    契約名稱 到期 月份 (週別)                 買方                  \\\n",
       "                    契約名稱 到期 月份 (週別) 前五大交易人合計  (特定法人合計)                   \n",
       "                    契約名稱 到期 月份 (週別)                部位數             百分比   \n",
       "0  臺股期貨(TX+MTX/4+TMF/20)        週契約             6  (0)      100%  (0%)   \n",
       "1  臺股期貨(TX+MTX/4+TMF/20)   2024  09   34,452  (29,475)  43.6%  (37.3%)   \n",
       "2  臺股期貨(TX+MTX/4+TMF/20)      所有 契約   34,868  (29,848)  39.3%  (33.6%)   \n",
       "\n",
       "                                                     賣方                  \\\n",
       "  前十大交易人合計  (特定法人合計)                 前五大交易人合計  (特定法人合計)                   \n",
       "                 部位數             百分比                部位數             百分比   \n",
       "0             6  (0)      100%  (0%)             6  (0)      100%  (0%)   \n",
       "1   45,299  (40,323)    57.3%  (51%)   30,992  (30,992)  39.2%  (39.2%)   \n",
       "2   46,514  (41,494)  52.4%  (46.7%)   33,288  (33,288)  37.5%  (37.5%)   \n",
       "\n",
       "                                   全市場未沖銷部位數  \n",
       "  前十大交易人合計  (特定法人合計)               全市場未沖銷部位數  \n",
       "                 部位數           百分比 全市場未沖銷部位數  \n",
       "0             6  (0)    100%  (0%)         6  \n",
       "1   41,869  (40,142)  53%  (50.8%)     79023  \n",
       "2   45,300  (43,183)  51%  (48.7%)     88759  "
      ]
     },
     "execution_count": 7,
     "metadata": {},
     "output_type": "execute_result"
    }
   ],
   "source": [
    "df = df[0]\n",
    "df"
   ]
  },
  {
   "cell_type": "code",
   "execution_count": 8,
   "metadata": {},
   "outputs": [
    {
     "data": {
      "text/html": [
       "<div>\n",
       "<style scoped>\n",
       "    .dataframe tbody tr th:only-of-type {\n",
       "        vertical-align: middle;\n",
       "    }\n",
       "\n",
       "    .dataframe tbody tr th {\n",
       "        vertical-align: top;\n",
       "    }\n",
       "\n",
       "    .dataframe thead th {\n",
       "        text-align: right;\n",
       "    }\n",
       "</style>\n",
       "<table border=\"1\" class=\"dataframe\">\n",
       "  <thead>\n",
       "    <tr style=\"text-align: right;\">\n",
       "      <th></th>\n",
       "      <th>契約名稱</th>\n",
       "      <th>到期月份（週別)</th>\n",
       "      <th>五大買方部位</th>\n",
       "      <th>五大買方百分比</th>\n",
       "      <th>十大買方部位</th>\n",
       "      <th>十大部位百分比</th>\n",
       "      <th>五大賣方部位</th>\n",
       "      <th>五大賣方百分比</th>\n",
       "      <th>十大賣方部位</th>\n",
       "      <th>十大賣方部位百分比</th>\n",
       "      <th>全市場未沖銷部位</th>\n",
       "    </tr>\n",
       "  </thead>\n",
       "  <tbody>\n",
       "    <tr>\n",
       "      <th>0</th>\n",
       "      <td>臺股期貨(TX+MTX/4+TMF/20)</td>\n",
       "      <td>週契約</td>\n",
       "      <td>6  (0)</td>\n",
       "      <td>100%  (0%)</td>\n",
       "      <td>6  (0)</td>\n",
       "      <td>100%  (0%)</td>\n",
       "      <td>6  (0)</td>\n",
       "      <td>100%  (0%)</td>\n",
       "      <td>6  (0)</td>\n",
       "      <td>100%  (0%)</td>\n",
       "      <td>6</td>\n",
       "    </tr>\n",
       "    <tr>\n",
       "      <th>1</th>\n",
       "      <td>臺股期貨(TX+MTX/4+TMF/20)</td>\n",
       "      <td>2024  09</td>\n",
       "      <td>34,452  (29,475)</td>\n",
       "      <td>43.6%  (37.3%)</td>\n",
       "      <td>45,299  (40,323)</td>\n",
       "      <td>57.3%  (51%)</td>\n",
       "      <td>30,992  (30,992)</td>\n",
       "      <td>39.2%  (39.2%)</td>\n",
       "      <td>41,869  (40,142)</td>\n",
       "      <td>53%  (50.8%)</td>\n",
       "      <td>79023</td>\n",
       "    </tr>\n",
       "    <tr>\n",
       "      <th>2</th>\n",
       "      <td>臺股期貨(TX+MTX/4+TMF/20)</td>\n",
       "      <td>所有 契約</td>\n",
       "      <td>34,868  (29,848)</td>\n",
       "      <td>39.3%  (33.6%)</td>\n",
       "      <td>46,514  (41,494)</td>\n",
       "      <td>52.4%  (46.7%)</td>\n",
       "      <td>33,288  (33,288)</td>\n",
       "      <td>37.5%  (37.5%)</td>\n",
       "      <td>45,300  (43,183)</td>\n",
       "      <td>51%  (48.7%)</td>\n",
       "      <td>88759</td>\n",
       "    </tr>\n",
       "  </tbody>\n",
       "</table>\n",
       "</div>"
      ],
      "text/plain": [
       "                    契約名稱  到期月份（週別)            五大買方部位         五大買方百分比  \\\n",
       "0  臺股期貨(TX+MTX/4+TMF/20)       週契約            6  (0)      100%  (0%)   \n",
       "1  臺股期貨(TX+MTX/4+TMF/20)  2024  09  34,452  (29,475)  43.6%  (37.3%)   \n",
       "2  臺股期貨(TX+MTX/4+TMF/20)     所有 契約  34,868  (29,848)  39.3%  (33.6%)   \n",
       "\n",
       "             十大買方部位         十大部位百分比            五大賣方部位         五大賣方百分比  \\\n",
       "0            6  (0)      100%  (0%)            6  (0)      100%  (0%)   \n",
       "1  45,299  (40,323)    57.3%  (51%)  30,992  (30,992)  39.2%  (39.2%)   \n",
       "2  46,514  (41,494)  52.4%  (46.7%)  33,288  (33,288)  37.5%  (37.5%)   \n",
       "\n",
       "             十大賣方部位     十大賣方部位百分比  全市場未沖銷部位  \n",
       "0            6  (0)    100%  (0%)         6  \n",
       "1  41,869  (40,142)  53%  (50.8%)     79023  \n",
       "2  45,300  (43,183)  51%  (48.7%)     88759  "
      ]
     },
     "execution_count": 8,
     "metadata": {},
     "output_type": "execute_result"
    }
   ],
   "source": [
    "df.columns =['契約名稱','到期月份（週別)','五大買方部位','五大買方百分比','十大買方部位','十大部位百分比','五大賣方部位','五大賣方百分比','十大賣方部位','十大賣方部位百分比','全市場未沖銷部位']\n",
    "df"
   ]
  },
  {
   "cell_type": "code",
   "execution_count": 9,
   "metadata": {},
   "outputs": [
    {
     "name": "stderr",
     "output_type": "stream",
     "text": [
      "/var/folders/mm/1vrw2kkx40sc5rljtdlcwtmr0000gn/T/ipykernel_92013/3900672111.py:6: FutureWarning: DataFrame.applymap has been deprecated. Use DataFrame.map instead.\n",
      "  df = df.applymap(remove_parentheses)\n"
     ]
    },
    {
     "data": {
      "text/html": [
       "<div>\n",
       "<style scoped>\n",
       "    .dataframe tbody tr th:only-of-type {\n",
       "        vertical-align: middle;\n",
       "    }\n",
       "\n",
       "    .dataframe tbody tr th {\n",
       "        vertical-align: top;\n",
       "    }\n",
       "\n",
       "    .dataframe thead th {\n",
       "        text-align: right;\n",
       "    }\n",
       "</style>\n",
       "<table border=\"1\" class=\"dataframe\">\n",
       "  <thead>\n",
       "    <tr style=\"text-align: right;\">\n",
       "      <th></th>\n",
       "      <th>契約名稱</th>\n",
       "      <th>到期月份（週別)</th>\n",
       "      <th>五大買方部位</th>\n",
       "      <th>五大買方百分比</th>\n",
       "      <th>十大買方部位</th>\n",
       "      <th>十大部位百分比</th>\n",
       "      <th>五大賣方部位</th>\n",
       "      <th>五大賣方百分比</th>\n",
       "      <th>十大賣方部位</th>\n",
       "      <th>十大賣方部位百分比</th>\n",
       "      <th>全市場未沖銷部位</th>\n",
       "    </tr>\n",
       "  </thead>\n",
       "  <tbody>\n",
       "    <tr>\n",
       "      <th>0</th>\n",
       "      <td>臺股期貨</td>\n",
       "      <td>週契約</td>\n",
       "      <td>6</td>\n",
       "      <td>100%</td>\n",
       "      <td>6</td>\n",
       "      <td>100%</td>\n",
       "      <td>6</td>\n",
       "      <td>100%</td>\n",
       "      <td>6</td>\n",
       "      <td>100%</td>\n",
       "      <td>6</td>\n",
       "    </tr>\n",
       "    <tr>\n",
       "      <th>1</th>\n",
       "      <td>臺股期貨</td>\n",
       "      <td>2024  09</td>\n",
       "      <td>34,452</td>\n",
       "      <td>43.6%</td>\n",
       "      <td>45,299</td>\n",
       "      <td>57.3%</td>\n",
       "      <td>30,992</td>\n",
       "      <td>39.2%</td>\n",
       "      <td>41,869</td>\n",
       "      <td>53%</td>\n",
       "      <td>79023</td>\n",
       "    </tr>\n",
       "    <tr>\n",
       "      <th>2</th>\n",
       "      <td>臺股期貨</td>\n",
       "      <td>所有 契約</td>\n",
       "      <td>34,868</td>\n",
       "      <td>39.3%</td>\n",
       "      <td>46,514</td>\n",
       "      <td>52.4%</td>\n",
       "      <td>33,288</td>\n",
       "      <td>37.5%</td>\n",
       "      <td>45,300</td>\n",
       "      <td>51%</td>\n",
       "      <td>88759</td>\n",
       "    </tr>\n",
       "  </tbody>\n",
       "</table>\n",
       "</div>"
      ],
      "text/plain": [
       "   契約名稱  到期月份（週別)  五大買方部位 五大買方百分比  十大買方部位 十大部位百分比  五大賣方部位 五大賣方百分比  十大賣方部位  \\\n",
       "0  臺股期貨       週契約       6    100%       6    100%       6    100%       6   \n",
       "1  臺股期貨  2024  09  34,452   43.6%  45,299   57.3%  30,992   39.2%  41,869   \n",
       "2  臺股期貨     所有 契約  34,868   39.3%  46,514   52.4%  33,288   37.5%  45,300   \n",
       "\n",
       "  十大賣方部位百分比  全市場未沖銷部位  \n",
       "0      100%         6  \n",
       "1       53%     79023  \n",
       "2       51%     88759  "
      ]
     },
     "execution_count": 9,
     "metadata": {},
     "output_type": "execute_result"
    }
   ],
   "source": [
    "import re\n",
    "def remove_parentheses(value):\n",
    "    if isinstance(value, str):\n",
    "        return re.sub(r'\\s*\\([^)]*\\)', '', value)\n",
    "    return value\n",
    "df = df.applymap(remove_parentheses)\n",
    "df"
   ]
  },
  {
   "cell_type": "code",
   "execution_count": 2,
   "metadata": {},
   "outputs": [
    {
     "data": {
      "text/plain": [
       "'{\"stat\":\"OK\",\"title\":\"114年04月 發行量加權股價指數歷史資料\",\"date\":\"20250430\",\"fields\":[\"日期\",\"開盤指數\",\"最高指數\",\"最低指數\",\"收盤指數\"],\"data\":[[\"114/04/01\",\"20,884.53\",\"21,315.52\",\"20,884.53\",\"21,280.17\"],[\"114/04/02\",\"21,313.77\",\"21,390.52\",\"21,235.99\",\"21,298.22\"],[\"114/04/07\",\"20,153.57\",\"20,153.57\",\"19,212.02\",\"19,232.35\"],[\"114/04/08\",\"19,064.47\",\"19,064.47\",\"18,180.48\",\"18,459.95\"],[\"114/04/09\",\"18,337.44\",\"18,371.52\",\"17,306.97\",\"17,391.76\"],[\"114/04/10\",\"18,256.47\",\"19,024.47\",\"18,256.47\",\"19,000.03\"],[\"114/04/11\",\"18,772.50\",\"19,528.77\",\"18,418.20\",\"19,528.77\"],[\"114/04/14\",\"19,686.68\",\"20,023.63\",\"19,508.93\",\"19,513.09\"],[\"114/04/15\",\"19,609.90\",\"19,895.43\",\"19,576.15\",\"19,857.67\"],[\"114/04/16\",\"19,737.09\",\"19,737.09\",\"19,453.14\",\"19,468.00\"],[\"114/04/17\",\"19,389.52\",\"19,478.00\",\"19,196.47\",\"19,338.73\"],[\"114/04/18\",\"19,423.98\",\"19,499.28\",\"19,376.35\",\"19,395.03\"],[\"114/04/21\",\"19,321.14\",\"19,359.96\",\"19,080.60\",\"19,106.20\"],[\"114/04/22\",\"18,990.86\",\"19,059.65\",\"18,793.43\",\"18,793.43\"],[\"114/04/23\",\"19,163.61\",\"19,639.14\",\"19,163.61\",\"19,639.14\"],[\"114/04/24\",\"19,752.59\",\"19,752.59\",\"19,433.37\",\"19,478.81\"],[\"114/04/25\",\"19,861.24\",\"20,012.27\",\"19,861.24\",\"19,872.73\"],[\"114/04/28\",\"19,972.07\",\"20,073.75\",\"19,972.07\",\"20,034.41\"],[\"114/04/29\",\"20,018.32\",\"20,232.63\",\"20,007.30\",\"20,232.63\"],[\"114/04/30\",\"20,215.39\",\"20,331.89\",\"20,185.31\",\"20,235.03\"]],\"total\":20}'"
      ]
     },
     "execution_count": 2,
     "metadata": {},
     "output_type": "execute_result"
    }
   ],
   "source": [
    "date = \"20250430\"\n",
    "url = \"https://www.twse.com.tw/rwd/zh/TAIEX/MI_5MINS_HIST\"\n",
    "params = {\n",
    "            'response':'json',\n",
    "            'date':date\n",
    "        }\n",
    "b = requests.post(url,data=params,headers=TWSE_DOWN)\n",
    "b.text"
   ]
  },
  {
   "cell_type": "code",
   "execution_count": null,
   "metadata": {},
   "outputs": [],
   "source": [
    "controller.update_twse_data(\"2024/08/30\")"
   ]
  },
  {
   "cell_type": "code",
   "execution_count": null,
   "metadata": {},
   "outputs": [],
   "source": [
    "controller.update_taifex_data(\"2024/09/11\")"
   ]
  },
  {
   "cell_type": "code",
   "execution_count": null,
   "metadata": {},
   "outputs": [],
   "source": [
    "df2 = controller.crawler_twse_data(\"2024/08/30\")\n",
    "df2"
   ]
  },
  {
   "cell_type": "code",
   "execution_count": null,
   "metadata": {},
   "outputs": [],
   "source": [
    "df3 = controller.crawler_twse_total_return(\"2024/08/30\")\n",
    "df3"
   ]
  },
  {
   "cell_type": "code",
   "execution_count": null,
   "metadata": {},
   "outputs": [],
   "source": [
    "merged_df = pd.merge(df2,df3,on='date',how='outer')\n",
    "merged_df"
   ]
  },
  {
   "cell_type": "code",
   "execution_count": null,
   "metadata": {},
   "outputs": [],
   "source": [
    "merged_df"
   ]
  },
  {
   "cell_type": "code",
   "execution_count": null,
   "metadata": {},
   "outputs": [],
   "source": [
    "df_dates = set(merged_df['date'])\n",
    "print(df_dates)"
   ]
  },
  {
   "cell_type": "code",
   "execution_count": null,
   "metadata": {},
   "outputs": [],
   "source": [
    "client = model.connect_mongo()"
   ]
  },
  {
   "cell_type": "code",
   "execution_count": null,
   "metadata": {},
   "outputs": [],
   "source": [
    "a = merged_df.to_dict('records')\n",
    "print(a)"
   ]
  },
  {
   "cell_type": "code",
   "execution_count": null,
   "metadata": {},
   "outputs": [],
   "source": [
    "a"
   ]
  },
  {
   "cell_type": "code",
   "execution_count": 11,
   "metadata": {},
   "outputs": [],
   "source": [
    "db = client[\"findata\"]\n",
    "collection = db[\"twse_index\"]\n",
    "\n",
    "result = collection.insert_many(a)"
   ]
  },
  {
   "cell_type": "code",
   "execution_count": null,
   "metadata": {},
   "outputs": [],
   "source": [
    "controller.crawler_taifex_data(\"2024/09/09\")"
   ]
  },
  {
   "cell_type": "code",
   "execution_count": null,
   "metadata": {},
   "outputs": [],
   "source": [
    "url = \"https://www.taifex.com.tw/cht/3/futContractsDate\"\n",
    "        \n",
    "params = {\n",
    "       'queryType': '2',\n",
    "       'goDay': '',\n",
    "       'doQuery': '1',\n",
    "       'dateaddcnt': '',\n",
    "       'queryDate': \"2024/09/08\"\n",
    "   }\n",
    "response = requests.post(url,headers=TAIFEX_OI,data=params)\n",
    "response.text"
   ]
  },
  {
   "cell_type": "code",
   "execution_count": null,
   "metadata": {},
   "outputs": [],
   "source": [
    "soup = BeautifulSoup(response.content,'html.parser')\n",
    "table = soup.table\n",
    "df = pd.read_html(StringIO(str(table)))\n",
    "df = df[0]\n",
    "df"
   ]
  },
  {
   "cell_type": "code",
   "execution_count": null,
   "metadata": {},
   "outputs": [],
   "source": [
    "df.drop(columns = df.columns[0],axis=1,inplace=True)\n",
    "df"
   ]
  },
  {
   "cell_type": "code",
   "execution_count": null,
   "metadata": {},
   "outputs": [],
   "source": [
    "len(df)"
   ]
  },
  {
   "cell_type": "code",
   "execution_count": 5,
   "metadata": {},
   "outputs": [],
   "source": [
    "date = \"2024/09/09\"\n",
    "data = {\n",
    "            \"date\":datetime.strptime(date,\"%Y/%m/%d\"),\n",
    "            \"期貨契約\":[]\n",
    "        }\n",
    "for _, row in df.iterrows():\n",
    "    contract = {\n",
    "        \"商品名稱\": row['商品名稱'],\n",
    "        \"身份別\": row['身份別'],\n",
    "        \"多方交易口數\": int(row['多方交易口數']),\n",
    "        \"多方交易金額\": int(row['多方交易金額']),\n",
    "        \"空方交易口數\": int(row['空方交易口數']),\n",
    "        \"空方交易金額\": int(row['空方交易金額']),\n",
    "        \"交易淨口數\": int(row['交易淨口數']),\n",
    "        \"交易淨金額\": int(row['交易淨金額']),\n",
    "        \"多方未平倉口數\": int(row['多方未平倉口數']),\n",
    "        \"多方未平倉金額\": int(row['多方未平倉金額']),\n",
    "        \"空方未平倉口數\": int(row['空方未平倉口數']),\n",
    "        \"空方未平倉金額\": int(row['空方未平倉金額']),\n",
    "        \"未平倉淨口數\": int(row['未平倉淨口數']),\n",
    "        \"未平倉淨金額\": int(row['未平倉淨金額'])\n",
    "    }\n",
    "    data[\"期貨契約\"].append(contract)\n",
    "    "
   ]
  },
  {
   "cell_type": "code",
   "execution_count": null,
   "metadata": {},
   "outputs": [],
   "source": [
    "print(data)"
   ]
  },
  {
   "cell_type": "code",
   "execution_count": null,
   "metadata": {},
   "outputs": [],
   "source": [
    "client = model.connect_mongo()"
   ]
  },
  {
   "cell_type": "code",
   "execution_count": 11,
   "metadata": {},
   "outputs": [],
   "source": [
    "db = client[\"findata\"]\n",
    "collection = db[\"txf_oi\"]\n"
   ]
  },
  {
   "cell_type": "code",
   "execution_count": 12,
   "metadata": {},
   "outputs": [],
   "source": [
    "existing_data = collection.find_one({'date':data['date']})"
   ]
  },
  {
   "cell_type": "code",
   "execution_count": null,
   "metadata": {},
   "outputs": [],
   "source": [
    "print(existing_data)\n",
    "print(data)"
   ]
  },
  {
   "cell_type": "code",
   "execution_count": 17,
   "metadata": {},
   "outputs": [],
   "source": [
    "result = collection.insert_one(data)"
   ]
  },
  {
   "cell_type": "code",
   "execution_count": null,
   "metadata": {},
   "outputs": [],
   "source": [
    "df = controller.crawler_twse_total_return(\"20240909\")\n",
    "df"
   ]
  },
  {
   "cell_type": "code",
   "execution_count": null,
   "metadata": {},
   "outputs": [],
   "source": [
    "df2 = controller.crawler_twse_data(\"20240909\")\n",
    "df2"
   ]
  },
  {
   "cell_type": "code",
   "execution_count": 2,
   "metadata": {},
   "outputs": [],
   "source": [
    "params ={\n",
    "    'response':'json',\n",
    "    'date':\"20240810\"\n",
    "}\n",
    "rsp = requests.get(\"https://www.twse.com.tw/rwd/zh/TAIEX/MFI94U\",data=params,headers=TWSE_DOWN)"
   ]
  },
  {
   "cell_type": "code",
   "execution_count": null,
   "metadata": {},
   "outputs": [],
   "source": [
    "d2 = json.loads(rsp.text)\n",
    "d2"
   ]
  },
  {
   "cell_type": "code",
   "execution_count": null,
   "metadata": {},
   "outputs": [],
   "source": [
    "df2 = pd.DataFrame(d2['data'],columns=['date','tri_close'])\n",
    "df2"
   ]
  },
  {
   "cell_type": "code",
   "execution_count": null,
   "metadata": {},
   "outputs": [],
   "source": [
    "df2.iloc[:,1:] = df2.iloc[:,1:].apply(lambda x: x.str.replace(',','').astype(float), axis=1)\n",
    "df2"
   ]
  },
  {
   "cell_type": "code",
   "execution_count": null,
   "metadata": {},
   "outputs": [],
   "source": [
    "df2[['year','month','day']] = df2['date'].str.split('/',expand=True)\n",
    "df2['year'] = df2['year'].astype(int)+1911\n",
    "df2['date'] = df2['year'].astype(str)+'-'+df2['month'].str.zfill(2) + \"-\" + df2['day'].str.zfill(2)\n",
    "df2['date'] = pd.to_datetime(df2['date'])\n",
    "df2"
   ]
  },
  {
   "cell_type": "code",
   "execution_count": null,
   "metadata": {},
   "outputs": [],
   "source": [
    "#tdf = controller.crawler_twse_data(\"20240801\")\n",
    "xdf = controller.crawler_twse_data(\"20240801\")"
   ]
  },
  {
   "cell_type": "code",
   "execution_count": null,
   "metadata": {},
   "outputs": [],
   "source": [
    "xdf"
   ]
  },
  {
   "cell_type": "code",
   "execution_count": null,
   "metadata": {},
   "outputs": [],
   "source": [
    "date = \"20240905\"\n",
    "url = \"https://www.twse.com.tw/indicesReport/MI_5MINS_HIST\"\n",
    "params = {\n",
    "    'response':'json',\n",
    "    'date':f'{date}'\n",
    "}\n",
    "\n",
    "response = requests.get(url,data=params,headers=TWSE_DOWN)\n"
   ]
  },
  {
   "cell_type": "code",
   "execution_count": null,
   "metadata": {},
   "outputs": [],
   "source": [
    "response.text"
   ]
  },
  {
   "cell_type": "code",
   "execution_count": null,
   "metadata": {},
   "outputs": [],
   "source": [
    "data = json.loads(response.text)\n",
    "data"
   ]
  },
  {
   "cell_type": "code",
   "execution_count": null,
   "metadata": {},
   "outputs": [],
   "source": [
    "df = pd.DataFrame(data['data'],columns=['date','open','high','low','close'])\n",
    "df"
   ]
  },
  {
   "cell_type": "code",
   "execution_count": null,
   "metadata": {},
   "outputs": [],
   "source": [
    "df.iloc[:, 1:] = df.iloc[:, 1:].apply(lambda x: x.str.replace(',', '').astype(float), axis=1)"
   ]
  },
  {
   "cell_type": "code",
   "execution_count": null,
   "metadata": {},
   "outputs": [],
   "source": [
    "df"
   ]
  },
  {
   "cell_type": "code",
   "execution_count": null,
   "metadata": {},
   "outputs": [],
   "source": [
    "df[['year', 'month', 'day']] = df['date'].str.split('/', expand=True)\n",
    "df['year'] = df['year'].astype(int) + 1911\n",
    "df['date'] = df['year'].astype(str) + '-' + df['month'].str.zfill(2) + '-' + df['day'].str.zfill(2)\n",
    "df"
   ]
  },
  {
   "cell_type": "code",
   "execution_count": null,
   "metadata": {},
   "outputs": [],
   "source": [
    "df[['year','Month', 'Day']] = df['Date'].str.split(\"/\",expand=True,)\n"
   ]
  },
  {
   "cell_type": "code",
   "execution_count": null,
   "metadata": {},
   "outputs": [],
   "source": [
    "df"
   ]
  },
  {
   "cell_type": "code",
   "execution_count": null,
   "metadata": {},
   "outputs": [],
   "source": [
    "df['Year'] = df['Year'].astype(int) + 1911\n"
   ]
  },
  {
   "cell_type": "code",
   "execution_count": null,
   "metadata": {},
   "outputs": [],
   "source": [
    "df"
   ]
  },
  {
   "cell_type": "code",
   "execution_count": null,
   "metadata": {},
   "outputs": [],
   "source": [
    "df['Date']  = (pd.to_datetime(df['Year'].astype(str) + '/' +\n",
    "df['Month'].astype(str) + '/' +\n",
    "df['Day'].astype(str)))"
   ]
  },
  {
   "cell_type": "code",
   "execution_count": null,
   "metadata": {},
   "outputs": [],
   "source": [
    "df"
   ]
  },
  {
   "cell_type": "code",
   "execution_count": null,
   "metadata": {},
   "outputs": [],
   "source": [
    "df = df.iloc[:, :-3]\n",
    "\n",
    "\n",
    "\n",
    "\n",
    "\n"
   ]
  },
  {
   "cell_type": "code",
   "execution_count": null,
   "metadata": {},
   "outputs": [],
   "source": [
    "df"
   ]
  },
  {
   "cell_type": "code",
   "execution_count": null,
   "metadata": {},
   "outputs": [],
   "source": []
  }
 ],
 "metadata": {
  "kernelspec": {
   "display_name": "Python 3",
   "language": "python",
   "name": "python3"
  },
  "language_info": {
   "codemirror_mode": {
    "name": "ipython",
    "version": 3
   },
   "file_extension": ".py",
   "mimetype": "text/x-python",
   "name": "python",
   "nbconvert_exporter": "python",
   "pygments_lexer": "ipython3",
   "version": "3.11.7"
  }
 },
 "nbformat": 4,
 "nbformat_minor": 2
}
